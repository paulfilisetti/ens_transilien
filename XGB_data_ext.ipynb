{
  "cells": [
    {
      "cell_type": "code",
      "execution_count": 1,
      "metadata": {
        "id": "ZJiaTJbCg_iY"
      },
      "outputs": [],
      "source": [
        "import pandas as pd\n",
        "import numpy as np"
      ]
    },
    {
      "cell_type": "markdown",
      "metadata": {
        "id": "ZPEoQKrshZ8U"
      },
      "source": [
        "# Chargement des données"
      ]
    },
    {
      "cell_type": "code",
      "execution_count": 2,
      "metadata": {
        "id": "ZdFDv2mnhDoC"
      },
      "outputs": [],
      "source": [
        "y_train = pd.read_csv('data/y_train_final.csv', index_col=0)\n",
        "y_sample = pd.read_csv('data/y_sample_final.csv', index_col=0)\n",
        "\n",
        "x_test = pd.read_csv('data/x_test_final.csv', index_col=0)\n",
        "x_train = pd.read_csv('data/x_train_final.csv', index_col=0)\n",
        "x_train = x_train.drop(columns=['Unnamed: 0'])\n",
        "# on drop une colonne de x_train car celle-ci est doublée avec l'index"
      ]
    },
    {
      "cell_type": "code",
      "execution_count": 3,
      "metadata": {
        "colab": {
          "base_uri": "https://localhost:8080/",
          "height": 206
        },
        "id": "skO6NKhFiTJN",
        "outputId": "490bf3c2-573d-45b0-ae9b-8ea3ed057adb"
      },
      "outputs": [
        {
          "data": {
            "application/vnd.microsoft.datawrangler.viewer.v0+json": {
              "columns": [
                {
                  "name": "index",
                  "rawType": "int64",
                  "type": "integer"
                },
                {
                  "name": "train",
                  "rawType": "object",
                  "type": "string"
                },
                {
                  "name": "gare",
                  "rawType": "object",
                  "type": "string"
                },
                {
                  "name": "date",
                  "rawType": "object",
                  "type": "string"
                },
                {
                  "name": "arret",
                  "rawType": "int64",
                  "type": "integer"
                },
                {
                  "name": "p2q0",
                  "rawType": "float64",
                  "type": "float"
                },
                {
                  "name": "p3q0",
                  "rawType": "float64",
                  "type": "float"
                },
                {
                  "name": "p4q0",
                  "rawType": "float64",
                  "type": "float"
                },
                {
                  "name": "p0q2",
                  "rawType": "float64",
                  "type": "float"
                },
                {
                  "name": "p0q3",
                  "rawType": "float64",
                  "type": "float"
                },
                {
                  "name": "p0q4",
                  "rawType": "float64",
                  "type": "float"
                }
              ],
              "conversionMethod": "pd.DataFrame",
              "ref": "1e509bca-446d-42f5-a3e3-e222363d7b49",
              "rows": [
                [
                  "0",
                  "VBXNMF",
                  "KYF",
                  "2023-04-03",
                  "8",
                  "0.0",
                  "0.0",
                  "1.0",
                  "-3.0",
                  "-1.0",
                  "-2.0"
                ],
                [
                  "1",
                  "VBXNMF",
                  "JLR",
                  "2023-04-03",
                  "9",
                  "0.0",
                  "0.0",
                  "0.0",
                  "1.0",
                  "0.0",
                  "1.0"
                ],
                [
                  "2",
                  "VBXNMF",
                  "EOH",
                  "2023-04-03",
                  "10",
                  "-1.0",
                  "0.0",
                  "0.0",
                  "-1.0",
                  "0.0",
                  "0.0"
                ],
                [
                  "3",
                  "VBXNMF",
                  "VXY",
                  "2023-04-03",
                  "11",
                  "-1.0",
                  "-1.0",
                  "0.0",
                  "2.0",
                  "-2.0",
                  "0.0"
                ],
                [
                  "4",
                  "VBXNMF",
                  "OCB",
                  "2023-04-03",
                  "12",
                  "-1.0",
                  "-1.0",
                  "-1.0",
                  "-1.0",
                  "3.0",
                  "2.0"
                ]
              ],
              "shape": {
                "columns": 10,
                "rows": 5
              }
            },
            "text/html": [
              "<div>\n",
              "<style scoped>\n",
              "    .dataframe tbody tr th:only-of-type {\n",
              "        vertical-align: middle;\n",
              "    }\n",
              "\n",
              "    .dataframe tbody tr th {\n",
              "        vertical-align: top;\n",
              "    }\n",
              "\n",
              "    .dataframe thead th {\n",
              "        text-align: right;\n",
              "    }\n",
              "</style>\n",
              "<table border=\"1\" class=\"dataframe\">\n",
              "  <thead>\n",
              "    <tr style=\"text-align: right;\">\n",
              "      <th></th>\n",
              "      <th>train</th>\n",
              "      <th>gare</th>\n",
              "      <th>date</th>\n",
              "      <th>arret</th>\n",
              "      <th>p2q0</th>\n",
              "      <th>p3q0</th>\n",
              "      <th>p4q0</th>\n",
              "      <th>p0q2</th>\n",
              "      <th>p0q3</th>\n",
              "      <th>p0q4</th>\n",
              "    </tr>\n",
              "  </thead>\n",
              "  <tbody>\n",
              "    <tr>\n",
              "      <th>0</th>\n",
              "      <td>VBXNMF</td>\n",
              "      <td>KYF</td>\n",
              "      <td>2023-04-03</td>\n",
              "      <td>8</td>\n",
              "      <td>0.0</td>\n",
              "      <td>0.0</td>\n",
              "      <td>1.0</td>\n",
              "      <td>-3.0</td>\n",
              "      <td>-1.0</td>\n",
              "      <td>-2.0</td>\n",
              "    </tr>\n",
              "    <tr>\n",
              "      <th>1</th>\n",
              "      <td>VBXNMF</td>\n",
              "      <td>JLR</td>\n",
              "      <td>2023-04-03</td>\n",
              "      <td>9</td>\n",
              "      <td>0.0</td>\n",
              "      <td>0.0</td>\n",
              "      <td>0.0</td>\n",
              "      <td>1.0</td>\n",
              "      <td>0.0</td>\n",
              "      <td>1.0</td>\n",
              "    </tr>\n",
              "    <tr>\n",
              "      <th>2</th>\n",
              "      <td>VBXNMF</td>\n",
              "      <td>EOH</td>\n",
              "      <td>2023-04-03</td>\n",
              "      <td>10</td>\n",
              "      <td>-1.0</td>\n",
              "      <td>0.0</td>\n",
              "      <td>0.0</td>\n",
              "      <td>-1.0</td>\n",
              "      <td>0.0</td>\n",
              "      <td>0.0</td>\n",
              "    </tr>\n",
              "    <tr>\n",
              "      <th>3</th>\n",
              "      <td>VBXNMF</td>\n",
              "      <td>VXY</td>\n",
              "      <td>2023-04-03</td>\n",
              "      <td>11</td>\n",
              "      <td>-1.0</td>\n",
              "      <td>-1.0</td>\n",
              "      <td>0.0</td>\n",
              "      <td>2.0</td>\n",
              "      <td>-2.0</td>\n",
              "      <td>0.0</td>\n",
              "    </tr>\n",
              "    <tr>\n",
              "      <th>4</th>\n",
              "      <td>VBXNMF</td>\n",
              "      <td>OCB</td>\n",
              "      <td>2023-04-03</td>\n",
              "      <td>12</td>\n",
              "      <td>-1.0</td>\n",
              "      <td>-1.0</td>\n",
              "      <td>-1.0</td>\n",
              "      <td>-1.0</td>\n",
              "      <td>3.0</td>\n",
              "      <td>2.0</td>\n",
              "    </tr>\n",
              "  </tbody>\n",
              "</table>\n",
              "</div>"
            ],
            "text/plain": [
              "    train gare        date  arret  p2q0  p3q0  p4q0  p0q2  p0q3  p0q4\n",
              "0  VBXNMF  KYF  2023-04-03      8   0.0   0.0   1.0  -3.0  -1.0  -2.0\n",
              "1  VBXNMF  JLR  2023-04-03      9   0.0   0.0   0.0   1.0   0.0   1.0\n",
              "2  VBXNMF  EOH  2023-04-03     10  -1.0   0.0   0.0  -1.0   0.0   0.0\n",
              "3  VBXNMF  VXY  2023-04-03     11  -1.0  -1.0   0.0   2.0  -2.0   0.0\n",
              "4  VBXNMF  OCB  2023-04-03     12  -1.0  -1.0  -1.0  -1.0   3.0   2.0"
            ]
          },
          "execution_count": 3,
          "metadata": {},
          "output_type": "execute_result"
        }
      ],
      "source": [
        "# test des heads pour voir si tout va bien\n",
        "x_train.head()"
      ]
    },
    {
      "cell_type": "markdown",
      "metadata": {
        "id": "HRmf7HY4iEIS"
      },
      "source": [
        "Définition des fonctions de formatages"
      ]
    },
    {
      "cell_type": "code",
      "execution_count": 4,
      "metadata": {
        "id": "PIGGqKCZiAG5"
      },
      "outputs": [],
      "source": [
        "def format_df_x(df):\n",
        "    # copy du df pour rien âbimer\n",
        "    df = df.copy()\n",
        "\n",
        "    # formatage des colonnes floats en int\n",
        "    cols_to_convert = ['p2q0', 'p3q0', 'p4q0', 'p0q2', 'p0q3', 'p0q4']\n",
        "    df[cols_to_convert] = df[cols_to_convert].astype(int)\n",
        "\n",
        "    # conversion date en datetime\n",
        "    df.date = pd.to_datetime(df.date)\n",
        "    # faire ressortir les infos annee, mois, jour, weekend\n",
        "    df['annee'] = df['date'].dt.year\n",
        "    df['mois'] = df['date'].dt.month\n",
        "    df['joursemaine'] = df['date'].dt.weekday\n",
        "    # et on enlève la colonne date\n",
        "    df = df.drop(columns=['date'])\n",
        "    return df"
      ]
    },
    {
      "cell_type": "code",
      "execution_count": 5,
      "metadata": {
        "id": "84QyevwFh_JB"
      },
      "outputs": [],
      "source": [
        "def format_df_y(df):\n",
        "    df = df.copy()\n",
        "    df['p0q0'] = df['p0q0'].astype(int)\n",
        "    return df"
      ]
    },
    {
      "cell_type": "markdown",
      "metadata": {
        "id": "gMXchfBci8j9"
      },
      "source": [
        "Création de df plus propres"
      ]
    },
    {
      "cell_type": "code",
      "execution_count": 6,
      "metadata": {
        "id": "7suGdo-hi7l5"
      },
      "outputs": [],
      "source": [
        "x_train = format_df_x(x_train)\n",
        "x_test = format_df_x(x_test)\n",
        "y_train = format_df_y(y_train)"
      ]
    },
    {
      "cell_type": "code",
      "execution_count": 7,
      "metadata": {
        "colab": {
          "base_uri": "https://localhost:8080/",
          "height": 206
        },
        "id": "D4TIz_5FjF95",
        "outputId": "27b8d44c-fe01-4e3e-e4d6-57dca025b190"
      },
      "outputs": [
        {
          "data": {
            "application/vnd.microsoft.datawrangler.viewer.v0+json": {
              "columns": [
                {
                  "name": "index",
                  "rawType": "int64",
                  "type": "integer"
                },
                {
                  "name": "train",
                  "rawType": "object",
                  "type": "string"
                },
                {
                  "name": "gare",
                  "rawType": "object",
                  "type": "string"
                },
                {
                  "name": "arret",
                  "rawType": "int64",
                  "type": "integer"
                },
                {
                  "name": "p2q0",
                  "rawType": "int64",
                  "type": "integer"
                },
                {
                  "name": "p3q0",
                  "rawType": "int64",
                  "type": "integer"
                },
                {
                  "name": "p4q0",
                  "rawType": "int64",
                  "type": "integer"
                },
                {
                  "name": "p0q2",
                  "rawType": "int64",
                  "type": "integer"
                },
                {
                  "name": "p0q3",
                  "rawType": "int64",
                  "type": "integer"
                },
                {
                  "name": "p0q4",
                  "rawType": "int64",
                  "type": "integer"
                },
                {
                  "name": "annee",
                  "rawType": "int32",
                  "type": "integer"
                },
                {
                  "name": "mois",
                  "rawType": "int32",
                  "type": "integer"
                },
                {
                  "name": "joursemaine",
                  "rawType": "int32",
                  "type": "integer"
                }
              ],
              "conversionMethod": "pd.DataFrame",
              "ref": "594dfe98-105b-4824-bbbc-1e58d48cb987",
              "rows": [
                [
                  "0",
                  "VBXNMF",
                  "KYF",
                  "8",
                  "0",
                  "0",
                  "1",
                  "-3",
                  "-1",
                  "-2",
                  "2023",
                  "4",
                  "0"
                ],
                [
                  "1",
                  "VBXNMF",
                  "JLR",
                  "9",
                  "0",
                  "0",
                  "0",
                  "1",
                  "0",
                  "1",
                  "2023",
                  "4",
                  "0"
                ],
                [
                  "2",
                  "VBXNMF",
                  "EOH",
                  "10",
                  "-1",
                  "0",
                  "0",
                  "-1",
                  "0",
                  "0",
                  "2023",
                  "4",
                  "0"
                ],
                [
                  "3",
                  "VBXNMF",
                  "VXY",
                  "11",
                  "-1",
                  "-1",
                  "0",
                  "2",
                  "-2",
                  "0",
                  "2023",
                  "4",
                  "0"
                ],
                [
                  "4",
                  "VBXNMF",
                  "OCB",
                  "12",
                  "-1",
                  "-1",
                  "-1",
                  "-1",
                  "3",
                  "2",
                  "2023",
                  "4",
                  "0"
                ]
              ],
              "shape": {
                "columns": 12,
                "rows": 5
              }
            },
            "text/html": [
              "<div>\n",
              "<style scoped>\n",
              "    .dataframe tbody tr th:only-of-type {\n",
              "        vertical-align: middle;\n",
              "    }\n",
              "\n",
              "    .dataframe tbody tr th {\n",
              "        vertical-align: top;\n",
              "    }\n",
              "\n",
              "    .dataframe thead th {\n",
              "        text-align: right;\n",
              "    }\n",
              "</style>\n",
              "<table border=\"1\" class=\"dataframe\">\n",
              "  <thead>\n",
              "    <tr style=\"text-align: right;\">\n",
              "      <th></th>\n",
              "      <th>train</th>\n",
              "      <th>gare</th>\n",
              "      <th>arret</th>\n",
              "      <th>p2q0</th>\n",
              "      <th>p3q0</th>\n",
              "      <th>p4q0</th>\n",
              "      <th>p0q2</th>\n",
              "      <th>p0q3</th>\n",
              "      <th>p0q4</th>\n",
              "      <th>annee</th>\n",
              "      <th>mois</th>\n",
              "      <th>joursemaine</th>\n",
              "    </tr>\n",
              "  </thead>\n",
              "  <tbody>\n",
              "    <tr>\n",
              "      <th>0</th>\n",
              "      <td>VBXNMF</td>\n",
              "      <td>KYF</td>\n",
              "      <td>8</td>\n",
              "      <td>0</td>\n",
              "      <td>0</td>\n",
              "      <td>1</td>\n",
              "      <td>-3</td>\n",
              "      <td>-1</td>\n",
              "      <td>-2</td>\n",
              "      <td>2023</td>\n",
              "      <td>4</td>\n",
              "      <td>0</td>\n",
              "    </tr>\n",
              "    <tr>\n",
              "      <th>1</th>\n",
              "      <td>VBXNMF</td>\n",
              "      <td>JLR</td>\n",
              "      <td>9</td>\n",
              "      <td>0</td>\n",
              "      <td>0</td>\n",
              "      <td>0</td>\n",
              "      <td>1</td>\n",
              "      <td>0</td>\n",
              "      <td>1</td>\n",
              "      <td>2023</td>\n",
              "      <td>4</td>\n",
              "      <td>0</td>\n",
              "    </tr>\n",
              "    <tr>\n",
              "      <th>2</th>\n",
              "      <td>VBXNMF</td>\n",
              "      <td>EOH</td>\n",
              "      <td>10</td>\n",
              "      <td>-1</td>\n",
              "      <td>0</td>\n",
              "      <td>0</td>\n",
              "      <td>-1</td>\n",
              "      <td>0</td>\n",
              "      <td>0</td>\n",
              "      <td>2023</td>\n",
              "      <td>4</td>\n",
              "      <td>0</td>\n",
              "    </tr>\n",
              "    <tr>\n",
              "      <th>3</th>\n",
              "      <td>VBXNMF</td>\n",
              "      <td>VXY</td>\n",
              "      <td>11</td>\n",
              "      <td>-1</td>\n",
              "      <td>-1</td>\n",
              "      <td>0</td>\n",
              "      <td>2</td>\n",
              "      <td>-2</td>\n",
              "      <td>0</td>\n",
              "      <td>2023</td>\n",
              "      <td>4</td>\n",
              "      <td>0</td>\n",
              "    </tr>\n",
              "    <tr>\n",
              "      <th>4</th>\n",
              "      <td>VBXNMF</td>\n",
              "      <td>OCB</td>\n",
              "      <td>12</td>\n",
              "      <td>-1</td>\n",
              "      <td>-1</td>\n",
              "      <td>-1</td>\n",
              "      <td>-1</td>\n",
              "      <td>3</td>\n",
              "      <td>2</td>\n",
              "      <td>2023</td>\n",
              "      <td>4</td>\n",
              "      <td>0</td>\n",
              "    </tr>\n",
              "  </tbody>\n",
              "</table>\n",
              "</div>"
            ],
            "text/plain": [
              "    train gare  arret  p2q0  p3q0  p4q0  p0q2  p0q3  p0q4  annee  mois  \\\n",
              "0  VBXNMF  KYF      8     0     0     1    -3    -1    -2   2023     4   \n",
              "1  VBXNMF  JLR      9     0     0     0     1     0     1   2023     4   \n",
              "2  VBXNMF  EOH     10    -1     0     0    -1     0     0   2023     4   \n",
              "3  VBXNMF  VXY     11    -1    -1     0     2    -2     0   2023     4   \n",
              "4  VBXNMF  OCB     12    -1    -1    -1    -1     3     2   2023     4   \n",
              "\n",
              "   joursemaine  \n",
              "0            0  \n",
              "1            0  \n",
              "2            0  \n",
              "3            0  \n",
              "4            0  "
            ]
          },
          "execution_count": 7,
          "metadata": {},
          "output_type": "execute_result"
        }
      ],
      "source": [
        "x_train.head()"
      ]
    },
    {
      "cell_type": "code",
      "execution_count": 8,
      "metadata": {
        "colab": {
          "base_uri": "https://localhost:8080/",
          "height": 206
        },
        "id": "aHNs7yMYjK4D",
        "outputId": "c2ac5fda-6058-4440-937c-4b83a68fb270"
      },
      "outputs": [
        {
          "data": {
            "application/vnd.microsoft.datawrangler.viewer.v0+json": {
              "columns": [
                {
                  "name": "index",
                  "rawType": "int64",
                  "type": "integer"
                },
                {
                  "name": "train",
                  "rawType": "object",
                  "type": "string"
                },
                {
                  "name": "gare",
                  "rawType": "object",
                  "type": "string"
                },
                {
                  "name": "arret",
                  "rawType": "int64",
                  "type": "integer"
                },
                {
                  "name": "p2q0",
                  "rawType": "int64",
                  "type": "integer"
                },
                {
                  "name": "p3q0",
                  "rawType": "int64",
                  "type": "integer"
                },
                {
                  "name": "p4q0",
                  "rawType": "int64",
                  "type": "integer"
                },
                {
                  "name": "p0q2",
                  "rawType": "int64",
                  "type": "integer"
                },
                {
                  "name": "p0q3",
                  "rawType": "int64",
                  "type": "integer"
                },
                {
                  "name": "p0q4",
                  "rawType": "int64",
                  "type": "integer"
                },
                {
                  "name": "annee",
                  "rawType": "int32",
                  "type": "integer"
                },
                {
                  "name": "mois",
                  "rawType": "int32",
                  "type": "integer"
                },
                {
                  "name": "joursemaine",
                  "rawType": "int32",
                  "type": "integer"
                }
              ],
              "conversionMethod": "pd.DataFrame",
              "ref": "eecfbea7-cdb2-4639-bd93-62abd3c1094f",
              "rows": [
                [
                  "0",
                  "ZPQEKP",
                  "VXY",
                  "12",
                  "0",
                  "0",
                  "-2",
                  "-4",
                  "-2",
                  "-4",
                  "2023",
                  "11",
                  "0"
                ],
                [
                  "1",
                  "KIQSRA",
                  "VXY",
                  "12",
                  "0",
                  "0",
                  "-1",
                  "1",
                  "-1",
                  "0",
                  "2023",
                  "11",
                  "0"
                ],
                [
                  "2",
                  "QQJYYT",
                  "VXY",
                  "12",
                  "0",
                  "1",
                  "-1",
                  "1",
                  "-1",
                  "1",
                  "2023",
                  "11",
                  "0"
                ],
                [
                  "3",
                  "FVKYMZ",
                  "VXY",
                  "12",
                  "0",
                  "0",
                  "-1",
                  "-1",
                  "0",
                  "-1",
                  "2023",
                  "11",
                  "0"
                ],
                [
                  "4",
                  "GXNZBY",
                  "AZA",
                  "12",
                  "1",
                  "-2",
                  "0",
                  "0",
                  "0",
                  "0",
                  "2023",
                  "11",
                  "0"
                ]
              ],
              "shape": {
                "columns": 12,
                "rows": 5
              }
            },
            "text/html": [
              "<div>\n",
              "<style scoped>\n",
              "    .dataframe tbody tr th:only-of-type {\n",
              "        vertical-align: middle;\n",
              "    }\n",
              "\n",
              "    .dataframe tbody tr th {\n",
              "        vertical-align: top;\n",
              "    }\n",
              "\n",
              "    .dataframe thead th {\n",
              "        text-align: right;\n",
              "    }\n",
              "</style>\n",
              "<table border=\"1\" class=\"dataframe\">\n",
              "  <thead>\n",
              "    <tr style=\"text-align: right;\">\n",
              "      <th></th>\n",
              "      <th>train</th>\n",
              "      <th>gare</th>\n",
              "      <th>arret</th>\n",
              "      <th>p2q0</th>\n",
              "      <th>p3q0</th>\n",
              "      <th>p4q0</th>\n",
              "      <th>p0q2</th>\n",
              "      <th>p0q3</th>\n",
              "      <th>p0q4</th>\n",
              "      <th>annee</th>\n",
              "      <th>mois</th>\n",
              "      <th>joursemaine</th>\n",
              "    </tr>\n",
              "  </thead>\n",
              "  <tbody>\n",
              "    <tr>\n",
              "      <th>0</th>\n",
              "      <td>ZPQEKP</td>\n",
              "      <td>VXY</td>\n",
              "      <td>12</td>\n",
              "      <td>0</td>\n",
              "      <td>0</td>\n",
              "      <td>-2</td>\n",
              "      <td>-4</td>\n",
              "      <td>-2</td>\n",
              "      <td>-4</td>\n",
              "      <td>2023</td>\n",
              "      <td>11</td>\n",
              "      <td>0</td>\n",
              "    </tr>\n",
              "    <tr>\n",
              "      <th>1</th>\n",
              "      <td>KIQSRA</td>\n",
              "      <td>VXY</td>\n",
              "      <td>12</td>\n",
              "      <td>0</td>\n",
              "      <td>0</td>\n",
              "      <td>-1</td>\n",
              "      <td>1</td>\n",
              "      <td>-1</td>\n",
              "      <td>0</td>\n",
              "      <td>2023</td>\n",
              "      <td>11</td>\n",
              "      <td>0</td>\n",
              "    </tr>\n",
              "    <tr>\n",
              "      <th>2</th>\n",
              "      <td>QQJYYT</td>\n",
              "      <td>VXY</td>\n",
              "      <td>12</td>\n",
              "      <td>0</td>\n",
              "      <td>1</td>\n",
              "      <td>-1</td>\n",
              "      <td>1</td>\n",
              "      <td>-1</td>\n",
              "      <td>1</td>\n",
              "      <td>2023</td>\n",
              "      <td>11</td>\n",
              "      <td>0</td>\n",
              "    </tr>\n",
              "    <tr>\n",
              "      <th>3</th>\n",
              "      <td>FVKYMZ</td>\n",
              "      <td>VXY</td>\n",
              "      <td>12</td>\n",
              "      <td>0</td>\n",
              "      <td>0</td>\n",
              "      <td>-1</td>\n",
              "      <td>-1</td>\n",
              "      <td>0</td>\n",
              "      <td>-1</td>\n",
              "      <td>2023</td>\n",
              "      <td>11</td>\n",
              "      <td>0</td>\n",
              "    </tr>\n",
              "    <tr>\n",
              "      <th>4</th>\n",
              "      <td>GXNZBY</td>\n",
              "      <td>AZA</td>\n",
              "      <td>12</td>\n",
              "      <td>1</td>\n",
              "      <td>-2</td>\n",
              "      <td>0</td>\n",
              "      <td>0</td>\n",
              "      <td>0</td>\n",
              "      <td>0</td>\n",
              "      <td>2023</td>\n",
              "      <td>11</td>\n",
              "      <td>0</td>\n",
              "    </tr>\n",
              "  </tbody>\n",
              "</table>\n",
              "</div>"
            ],
            "text/plain": [
              "    train gare  arret  p2q0  p3q0  p4q0  p0q2  p0q3  p0q4  annee  mois  \\\n",
              "0  ZPQEKP  VXY     12     0     0    -2    -4    -2    -4   2023    11   \n",
              "1  KIQSRA  VXY     12     0     0    -1     1    -1     0   2023    11   \n",
              "2  QQJYYT  VXY     12     0     1    -1     1    -1     1   2023    11   \n",
              "3  FVKYMZ  VXY     12     0     0    -1    -1     0    -1   2023    11   \n",
              "4  GXNZBY  AZA     12     1    -2     0     0     0     0   2023    11   \n",
              "\n",
              "   joursemaine  \n",
              "0            0  \n",
              "1            0  \n",
              "2            0  \n",
              "3            0  \n",
              "4            0  "
            ]
          },
          "execution_count": 8,
          "metadata": {},
          "output_type": "execute_result"
        }
      ],
      "source": [
        "x_test.head()"
      ]
    },
    {
      "cell_type": "code",
      "execution_count": 9,
      "metadata": {
        "colab": {
          "base_uri": "https://localhost:8080/",
          "height": 206
        },
        "id": "XlkpSWZyjNgd",
        "outputId": "a31dd616-9a44-4447-e97a-8611b7189eae"
      },
      "outputs": [
        {
          "data": {
            "application/vnd.microsoft.datawrangler.viewer.v0+json": {
              "columns": [
                {
                  "name": "index",
                  "rawType": "int64",
                  "type": "integer"
                },
                {
                  "name": "p0q0",
                  "rawType": "int64",
                  "type": "integer"
                }
              ],
              "conversionMethod": "pd.DataFrame",
              "ref": "b86724c6-c875-492b-8ca6-3bc25759c4c0",
              "rows": [
                [
                  "0",
                  "-1"
                ],
                [
                  "1",
                  "-1"
                ],
                [
                  "2",
                  "-1"
                ],
                [
                  "3",
                  "1"
                ],
                [
                  "4",
                  "3"
                ]
              ],
              "shape": {
                "columns": 1,
                "rows": 5
              }
            },
            "text/html": [
              "<div>\n",
              "<style scoped>\n",
              "    .dataframe tbody tr th:only-of-type {\n",
              "        vertical-align: middle;\n",
              "    }\n",
              "\n",
              "    .dataframe tbody tr th {\n",
              "        vertical-align: top;\n",
              "    }\n",
              "\n",
              "    .dataframe thead th {\n",
              "        text-align: right;\n",
              "    }\n",
              "</style>\n",
              "<table border=\"1\" class=\"dataframe\">\n",
              "  <thead>\n",
              "    <tr style=\"text-align: right;\">\n",
              "      <th></th>\n",
              "      <th>p0q0</th>\n",
              "    </tr>\n",
              "  </thead>\n",
              "  <tbody>\n",
              "    <tr>\n",
              "      <th>0</th>\n",
              "      <td>-1</td>\n",
              "    </tr>\n",
              "    <tr>\n",
              "      <th>1</th>\n",
              "      <td>-1</td>\n",
              "    </tr>\n",
              "    <tr>\n",
              "      <th>2</th>\n",
              "      <td>-1</td>\n",
              "    </tr>\n",
              "    <tr>\n",
              "      <th>3</th>\n",
              "      <td>1</td>\n",
              "    </tr>\n",
              "    <tr>\n",
              "      <th>4</th>\n",
              "      <td>3</td>\n",
              "    </tr>\n",
              "  </tbody>\n",
              "</table>\n",
              "</div>"
            ],
            "text/plain": [
              "   p0q0\n",
              "0    -1\n",
              "1    -1\n",
              "2    -1\n",
              "3     1\n",
              "4     3"
            ]
          },
          "execution_count": 9,
          "metadata": {},
          "output_type": "execute_result"
        }
      ],
      "source": [
        "y_train.head()"
      ]
    },
    {
      "cell_type": "code",
      "execution_count": 10,
      "metadata": {
        "colab": {
          "base_uri": "https://localhost:8080/"
        },
        "id": "YfLa-2xojo-0",
        "outputId": "5e1ea71a-dce2-4b69-980d-fd01e0fdec32"
      },
      "outputs": [
        {
          "data": {
            "text/plain": [
              "(667264, 12)"
            ]
          },
          "execution_count": 10,
          "metadata": {},
          "output_type": "execute_result"
        }
      ],
      "source": [
        "x_train.shape"
      ]
    },
    {
      "cell_type": "code",
      "execution_count": 11,
      "metadata": {
        "colab": {
          "base_uri": "https://localhost:8080/"
        },
        "id": "pWqUO8ALjq-o",
        "outputId": "91339bea-adb5-4e0f-d1dc-e2b93d0b19d3"
      },
      "outputs": [
        {
          "data": {
            "text/plain": [
              "(667264, 1)"
            ]
          },
          "execution_count": 11,
          "metadata": {},
          "output_type": "execute_result"
        }
      ],
      "source": [
        "y_train.shape"
      ]
    },
    {
      "cell_type": "markdown",
      "metadata": {
        "id": "bfInyQcnjS4l"
      },
      "source": [
        "# Pipeline"
      ]
    },
    {
      "cell_type": "code",
      "execution_count": 12,
      "metadata": {
        "id": "U8OfU2SFjOuM"
      },
      "outputs": [],
      "source": [
        "# faisons le split\n",
        "from sklearn.model_selection import train_test_split\n",
        "data_train, data_test, target_train, target_test = train_test_split(x_train, y_train, test_size=0.3,random_state=42)"
      ]
    },
    {
      "cell_type": "markdown",
      "metadata": {
        "id": "aKgNGFG7jxkz"
      },
      "source": [
        "faisons la première pipeline avec RandomForest, on fera la seconde avec XGBoost"
      ]
    },
    {
      "cell_type": "code",
      "execution_count": 13,
      "metadata": {
        "id": "Th7wFeO-juNK"
      },
      "outputs": [],
      "source": [
        "from sklearn.preprocessing import OrdinalEncoder, OneHotEncoder\n",
        "from sklearn.pipeline import make_pipeline\n",
        "from sklearn.linear_model import LogisticRegression\n",
        "from sklearn.ensemble import RandomForestClassifier\n",
        "from xgboost import XGBRegressor\n",
        "from sklearn.compose import ColumnTransformer"
      ]
    },
    {
      "cell_type": "code",
      "execution_count": 14,
      "metadata": {
        "colab": {
          "base_uri": "https://localhost:8080/",
          "height": 424
        },
        "id": "5AFY9ZTpkDm_",
        "outputId": "9bb6882f-7ea7-452a-d54c-42ea9ef0b70b"
      },
      "outputs": [
        {
          "data": {
            "application/vnd.microsoft.datawrangler.viewer.v0+json": {
              "columns": [
                {
                  "name": "index",
                  "rawType": "int64",
                  "type": "integer"
                },
                {
                  "name": "train",
                  "rawType": "object",
                  "type": "string"
                },
                {
                  "name": "gare",
                  "rawType": "object",
                  "type": "string"
                }
              ],
              "conversionMethod": "pd.DataFrame",
              "ref": "5ab4d567-8504-4b80-9248-adbc834961e7",
              "rows": [
                [
                  "0",
                  "VBXNMF",
                  "KYF"
                ],
                [
                  "1",
                  "VBXNMF",
                  "JLR"
                ],
                [
                  "2",
                  "VBXNMF",
                  "EOH"
                ],
                [
                  "3",
                  "VBXNMF",
                  "VXY"
                ],
                [
                  "4",
                  "VBXNMF",
                  "OCB"
                ],
                [
                  "5",
                  "ATIRWR",
                  "KYF"
                ],
                [
                  "6",
                  "ATIRWR",
                  "JLR"
                ],
                [
                  "7",
                  "ATIRWR",
                  "EOH"
                ],
                [
                  "8",
                  "ATIRWR",
                  "VXY"
                ],
                [
                  "9",
                  "ATIRWR",
                  "OCB"
                ],
                [
                  "10",
                  "RSYSWB",
                  "KYF"
                ],
                [
                  "11",
                  "RSYSWB",
                  "JLR"
                ],
                [
                  "12",
                  "RSYSWB",
                  "EOH"
                ],
                [
                  "13",
                  "RSYSWB",
                  "VXY"
                ],
                [
                  "14",
                  "RSYSWB",
                  "OCB"
                ],
                [
                  "15",
                  "JKOUAN",
                  "KYF"
                ],
                [
                  "16",
                  "JKOUAN",
                  "JLR"
                ],
                [
                  "17",
                  "JKOUAN",
                  "EOH"
                ],
                [
                  "18",
                  "JKOUAN",
                  "VXY"
                ],
                [
                  "19",
                  "JKOUAN",
                  "OCB"
                ],
                [
                  "20",
                  "FXJXZK",
                  "KYF"
                ],
                [
                  "21",
                  "FXJXZK",
                  "JLR"
                ],
                [
                  "22",
                  "FXJXZK",
                  "EOH"
                ],
                [
                  "23",
                  "FXJXZK",
                  "VXY"
                ],
                [
                  "24",
                  "FXJXZK",
                  "OCB"
                ],
                [
                  "25",
                  "IEXCNQ",
                  "XTD"
                ],
                [
                  "26",
                  "IEXCNQ",
                  "AZA"
                ],
                [
                  "27",
                  "IEXCNQ",
                  "ZVY"
                ],
                [
                  "28",
                  "IEXCNQ",
                  "JBZ"
                ],
                [
                  "29",
                  "IEXCNQ",
                  "RUP"
                ],
                [
                  "30",
                  "IEXCNQ",
                  "BAP"
                ],
                [
                  "31",
                  "IEXCNQ",
                  "ZHN"
                ],
                [
                  "32",
                  "IEXCNQ",
                  "KYF"
                ],
                [
                  "33",
                  "IEXCNQ",
                  "JLR"
                ],
                [
                  "34",
                  "IEXCNQ",
                  "EOH"
                ],
                [
                  "35",
                  "IEXCNQ",
                  "VXY"
                ],
                [
                  "36",
                  "IEXCNQ",
                  "OCB"
                ],
                [
                  "37",
                  "IEXCNQ",
                  "AVU"
                ],
                [
                  "38",
                  "IEXCNQ",
                  "AVF"
                ],
                [
                  "39",
                  "IEXCNQ",
                  "QYY"
                ],
                [
                  "40",
                  "IEXCNQ",
                  "LNI"
                ],
                [
                  "41",
                  "IEXCNQ",
                  "JEQ"
                ],
                [
                  "42",
                  "HMHMPF",
                  "KOG"
                ],
                [
                  "43",
                  "HMHMPF",
                  "OML"
                ],
                [
                  "44",
                  "HMHMPF",
                  "GDU"
                ],
                [
                  "45",
                  "HMHMPF",
                  "XTD"
                ],
                [
                  "46",
                  "HMHMPF",
                  "AZA"
                ],
                [
                  "47",
                  "HMHMPF",
                  "ZVY"
                ],
                [
                  "48",
                  "HMHMPF",
                  "JBZ"
                ],
                [
                  "49",
                  "HMHMPF",
                  "RUP"
                ]
              ],
              "shape": {
                "columns": 2,
                "rows": 667264
              }
            },
            "text/html": [
              "<div>\n",
              "<style scoped>\n",
              "    .dataframe tbody tr th:only-of-type {\n",
              "        vertical-align: middle;\n",
              "    }\n",
              "\n",
              "    .dataframe tbody tr th {\n",
              "        vertical-align: top;\n",
              "    }\n",
              "\n",
              "    .dataframe thead th {\n",
              "        text-align: right;\n",
              "    }\n",
              "</style>\n",
              "<table border=\"1\" class=\"dataframe\">\n",
              "  <thead>\n",
              "    <tr style=\"text-align: right;\">\n",
              "      <th></th>\n",
              "      <th>train</th>\n",
              "      <th>gare</th>\n",
              "    </tr>\n",
              "  </thead>\n",
              "  <tbody>\n",
              "    <tr>\n",
              "      <th>0</th>\n",
              "      <td>VBXNMF</td>\n",
              "      <td>KYF</td>\n",
              "    </tr>\n",
              "    <tr>\n",
              "      <th>1</th>\n",
              "      <td>VBXNMF</td>\n",
              "      <td>JLR</td>\n",
              "    </tr>\n",
              "    <tr>\n",
              "      <th>2</th>\n",
              "      <td>VBXNMF</td>\n",
              "      <td>EOH</td>\n",
              "    </tr>\n",
              "    <tr>\n",
              "      <th>3</th>\n",
              "      <td>VBXNMF</td>\n",
              "      <td>VXY</td>\n",
              "    </tr>\n",
              "    <tr>\n",
              "      <th>4</th>\n",
              "      <td>VBXNMF</td>\n",
              "      <td>OCB</td>\n",
              "    </tr>\n",
              "    <tr>\n",
              "      <th>...</th>\n",
              "      <td>...</td>\n",
              "      <td>...</td>\n",
              "    </tr>\n",
              "    <tr>\n",
              "      <th>667259</th>\n",
              "      <td>BFNJJK</td>\n",
              "      <td>DGG</td>\n",
              "    </tr>\n",
              "    <tr>\n",
              "      <th>667260</th>\n",
              "      <td>BFNJJK</td>\n",
              "      <td>KDN</td>\n",
              "    </tr>\n",
              "    <tr>\n",
              "      <th>667261</th>\n",
              "      <td>BFNJJK</td>\n",
              "      <td>TVD</td>\n",
              "    </tr>\n",
              "    <tr>\n",
              "      <th>667262</th>\n",
              "      <td>BFNJJK</td>\n",
              "      <td>TXP</td>\n",
              "    </tr>\n",
              "    <tr>\n",
              "      <th>667263</th>\n",
              "      <td>BFNJJK</td>\n",
              "      <td>OWI</td>\n",
              "    </tr>\n",
              "  </tbody>\n",
              "</table>\n",
              "<p>667264 rows × 2 columns</p>\n",
              "</div>"
            ],
            "text/plain": [
              "         train gare\n",
              "0       VBXNMF  KYF\n",
              "1       VBXNMF  JLR\n",
              "2       VBXNMF  EOH\n",
              "3       VBXNMF  VXY\n",
              "4       VBXNMF  OCB\n",
              "...        ...  ...\n",
              "667259  BFNJJK  DGG\n",
              "667260  BFNJJK  KDN\n",
              "667261  BFNJJK  TVD\n",
              "667262  BFNJJK  TXP\n",
              "667263  BFNJJK  OWI\n",
              "\n",
              "[667264 rows x 2 columns]"
            ]
          },
          "execution_count": 14,
          "metadata": {},
          "output_type": "execute_result"
        }
      ],
      "source": [
        "# test de la syntaxe pour sélectionner deux colonnes\n",
        "x_train[['train', 'gare']]"
      ]
    },
    {
      "cell_type": "code",
      "execution_count": 15,
      "metadata": {
        "id": "jnWRDazNkCq0"
      },
      "outputs": [],
      "source": [
        "one_hot_data = data_train[['train', 'gare']]\n",
        "data_numeric = data_train.drop(columns=['train', 'gare'])"
      ]
    },
    {
      "cell_type": "code",
      "execution_count": 16,
      "metadata": {
        "colab": {
          "base_uri": "https://localhost:8080/"
        },
        "id": "9QR_hk_Dsj3B",
        "outputId": "969ac704-453e-46ba-e811-ea0f7793723a"
      },
      "outputs": [
        {
          "data": {
            "text/plain": [
              "Index(['arret', 'p2q0', 'p3q0', 'p4q0', 'p0q2', 'p0q3', 'p0q4', 'annee',\n",
              "       'mois', 'joursemaine'],\n",
              "      dtype='object')"
            ]
          },
          "execution_count": 16,
          "metadata": {},
          "output_type": "execute_result"
        }
      ],
      "source": [
        "data_numeric.columns"
      ]
    },
    {
      "cell_type": "code",
      "execution_count": 17,
      "metadata": {
        "colab": {
          "base_uri": "https://localhost:8080/",
          "height": 265
        },
        "id": "OqtNGC3Mj67R",
        "outputId": "562c9b44-c7a1-423c-953e-049283225712"
      },
      "outputs": [
        {
          "data": {
            "text/html": [
              "<style>#sk-container-id-1 {\n",
              "  /* Definition of color scheme common for light and dark mode */\n",
              "  --sklearn-color-text: #000;\n",
              "  --sklearn-color-text-muted: #666;\n",
              "  --sklearn-color-line: gray;\n",
              "  /* Definition of color scheme for unfitted estimators */\n",
              "  --sklearn-color-unfitted-level-0: #fff5e6;\n",
              "  --sklearn-color-unfitted-level-1: #f6e4d2;\n",
              "  --sklearn-color-unfitted-level-2: #ffe0b3;\n",
              "  --sklearn-color-unfitted-level-3: chocolate;\n",
              "  /* Definition of color scheme for fitted estimators */\n",
              "  --sklearn-color-fitted-level-0: #f0f8ff;\n",
              "  --sklearn-color-fitted-level-1: #d4ebff;\n",
              "  --sklearn-color-fitted-level-2: #b3dbfd;\n",
              "  --sklearn-color-fitted-level-3: cornflowerblue;\n",
              "\n",
              "  /* Specific color for light theme */\n",
              "  --sklearn-color-text-on-default-background: var(--sg-text-color, var(--theme-code-foreground, var(--jp-content-font-color1, black)));\n",
              "  --sklearn-color-background: var(--sg-background-color, var(--theme-background, var(--jp-layout-color0, white)));\n",
              "  --sklearn-color-border-box: var(--sg-text-color, var(--theme-code-foreground, var(--jp-content-font-color1, black)));\n",
              "  --sklearn-color-icon: #696969;\n",
              "\n",
              "  @media (prefers-color-scheme: dark) {\n",
              "    /* Redefinition of color scheme for dark theme */\n",
              "    --sklearn-color-text-on-default-background: var(--sg-text-color, var(--theme-code-foreground, var(--jp-content-font-color1, white)));\n",
              "    --sklearn-color-background: var(--sg-background-color, var(--theme-background, var(--jp-layout-color0, #111)));\n",
              "    --sklearn-color-border-box: var(--sg-text-color, var(--theme-code-foreground, var(--jp-content-font-color1, white)));\n",
              "    --sklearn-color-icon: #878787;\n",
              "  }\n",
              "}\n",
              "\n",
              "#sk-container-id-1 {\n",
              "  color: var(--sklearn-color-text);\n",
              "}\n",
              "\n",
              "#sk-container-id-1 pre {\n",
              "  padding: 0;\n",
              "}\n",
              "\n",
              "#sk-container-id-1 input.sk-hidden--visually {\n",
              "  border: 0;\n",
              "  clip: rect(1px 1px 1px 1px);\n",
              "  clip: rect(1px, 1px, 1px, 1px);\n",
              "  height: 1px;\n",
              "  margin: -1px;\n",
              "  overflow: hidden;\n",
              "  padding: 0;\n",
              "  position: absolute;\n",
              "  width: 1px;\n",
              "}\n",
              "\n",
              "#sk-container-id-1 div.sk-dashed-wrapped {\n",
              "  border: 1px dashed var(--sklearn-color-line);\n",
              "  margin: 0 0.4em 0.5em 0.4em;\n",
              "  box-sizing: border-box;\n",
              "  padding-bottom: 0.4em;\n",
              "  background-color: var(--sklearn-color-background);\n",
              "}\n",
              "\n",
              "#sk-container-id-1 div.sk-container {\n",
              "  /* jupyter's `normalize.less` sets `[hidden] { display: none; }`\n",
              "     but bootstrap.min.css set `[hidden] { display: none !important; }`\n",
              "     so we also need the `!important` here to be able to override the\n",
              "     default hidden behavior on the sphinx rendered scikit-learn.org.\n",
              "     See: https://github.com/scikit-learn/scikit-learn/issues/21755 */\n",
              "  display: inline-block !important;\n",
              "  position: relative;\n",
              "}\n",
              "\n",
              "#sk-container-id-1 div.sk-text-repr-fallback {\n",
              "  display: none;\n",
              "}\n",
              "\n",
              "div.sk-parallel-item,\n",
              "div.sk-serial,\n",
              "div.sk-item {\n",
              "  /* draw centered vertical line to link estimators */\n",
              "  background-image: linear-gradient(var(--sklearn-color-text-on-default-background), var(--sklearn-color-text-on-default-background));\n",
              "  background-size: 2px 100%;\n",
              "  background-repeat: no-repeat;\n",
              "  background-position: center center;\n",
              "}\n",
              "\n",
              "/* Parallel-specific style estimator block */\n",
              "\n",
              "#sk-container-id-1 div.sk-parallel-item::after {\n",
              "  content: \"\";\n",
              "  width: 100%;\n",
              "  border-bottom: 2px solid var(--sklearn-color-text-on-default-background);\n",
              "  flex-grow: 1;\n",
              "}\n",
              "\n",
              "#sk-container-id-1 div.sk-parallel {\n",
              "  display: flex;\n",
              "  align-items: stretch;\n",
              "  justify-content: center;\n",
              "  background-color: var(--sklearn-color-background);\n",
              "  position: relative;\n",
              "}\n",
              "\n",
              "#sk-container-id-1 div.sk-parallel-item {\n",
              "  display: flex;\n",
              "  flex-direction: column;\n",
              "}\n",
              "\n",
              "#sk-container-id-1 div.sk-parallel-item:first-child::after {\n",
              "  align-self: flex-end;\n",
              "  width: 50%;\n",
              "}\n",
              "\n",
              "#sk-container-id-1 div.sk-parallel-item:last-child::after {\n",
              "  align-self: flex-start;\n",
              "  width: 50%;\n",
              "}\n",
              "\n",
              "#sk-container-id-1 div.sk-parallel-item:only-child::after {\n",
              "  width: 0;\n",
              "}\n",
              "\n",
              "/* Serial-specific style estimator block */\n",
              "\n",
              "#sk-container-id-1 div.sk-serial {\n",
              "  display: flex;\n",
              "  flex-direction: column;\n",
              "  align-items: center;\n",
              "  background-color: var(--sklearn-color-background);\n",
              "  padding-right: 1em;\n",
              "  padding-left: 1em;\n",
              "}\n",
              "\n",
              "\n",
              "/* Toggleable style: style used for estimator/Pipeline/ColumnTransformer box that is\n",
              "clickable and can be expanded/collapsed.\n",
              "- Pipeline and ColumnTransformer use this feature and define the default style\n",
              "- Estimators will overwrite some part of the style using the `sk-estimator` class\n",
              "*/\n",
              "\n",
              "/* Pipeline and ColumnTransformer style (default) */\n",
              "\n",
              "#sk-container-id-1 div.sk-toggleable {\n",
              "  /* Default theme specific background. It is overwritten whether we have a\n",
              "  specific estimator or a Pipeline/ColumnTransformer */\n",
              "  background-color: var(--sklearn-color-background);\n",
              "}\n",
              "\n",
              "/* Toggleable label */\n",
              "#sk-container-id-1 label.sk-toggleable__label {\n",
              "  cursor: pointer;\n",
              "  display: flex;\n",
              "  width: 100%;\n",
              "  margin-bottom: 0;\n",
              "  padding: 0.5em;\n",
              "  box-sizing: border-box;\n",
              "  text-align: center;\n",
              "  align-items: start;\n",
              "  justify-content: space-between;\n",
              "  gap: 0.5em;\n",
              "}\n",
              "\n",
              "#sk-container-id-1 label.sk-toggleable__label .caption {\n",
              "  font-size: 0.6rem;\n",
              "  font-weight: lighter;\n",
              "  color: var(--sklearn-color-text-muted);\n",
              "}\n",
              "\n",
              "#sk-container-id-1 label.sk-toggleable__label-arrow:before {\n",
              "  /* Arrow on the left of the label */\n",
              "  content: \"▸\";\n",
              "  float: left;\n",
              "  margin-right: 0.25em;\n",
              "  color: var(--sklearn-color-icon);\n",
              "}\n",
              "\n",
              "#sk-container-id-1 label.sk-toggleable__label-arrow:hover:before {\n",
              "  color: var(--sklearn-color-text);\n",
              "}\n",
              "\n",
              "/* Toggleable content - dropdown */\n",
              "\n",
              "#sk-container-id-1 div.sk-toggleable__content {\n",
              "  max-height: 0;\n",
              "  max-width: 0;\n",
              "  overflow: hidden;\n",
              "  text-align: left;\n",
              "  /* unfitted */\n",
              "  background-color: var(--sklearn-color-unfitted-level-0);\n",
              "}\n",
              "\n",
              "#sk-container-id-1 div.sk-toggleable__content.fitted {\n",
              "  /* fitted */\n",
              "  background-color: var(--sklearn-color-fitted-level-0);\n",
              "}\n",
              "\n",
              "#sk-container-id-1 div.sk-toggleable__content pre {\n",
              "  margin: 0.2em;\n",
              "  border-radius: 0.25em;\n",
              "  color: var(--sklearn-color-text);\n",
              "  /* unfitted */\n",
              "  background-color: var(--sklearn-color-unfitted-level-0);\n",
              "}\n",
              "\n",
              "#sk-container-id-1 div.sk-toggleable__content.fitted pre {\n",
              "  /* unfitted */\n",
              "  background-color: var(--sklearn-color-fitted-level-0);\n",
              "}\n",
              "\n",
              "#sk-container-id-1 input.sk-toggleable__control:checked~div.sk-toggleable__content {\n",
              "  /* Expand drop-down */\n",
              "  max-height: 200px;\n",
              "  max-width: 100%;\n",
              "  overflow: auto;\n",
              "}\n",
              "\n",
              "#sk-container-id-1 input.sk-toggleable__control:checked~label.sk-toggleable__label-arrow:before {\n",
              "  content: \"▾\";\n",
              "}\n",
              "\n",
              "/* Pipeline/ColumnTransformer-specific style */\n",
              "\n",
              "#sk-container-id-1 div.sk-label input.sk-toggleable__control:checked~label.sk-toggleable__label {\n",
              "  color: var(--sklearn-color-text);\n",
              "  background-color: var(--sklearn-color-unfitted-level-2);\n",
              "}\n",
              "\n",
              "#sk-container-id-1 div.sk-label.fitted input.sk-toggleable__control:checked~label.sk-toggleable__label {\n",
              "  background-color: var(--sklearn-color-fitted-level-2);\n",
              "}\n",
              "\n",
              "/* Estimator-specific style */\n",
              "\n",
              "/* Colorize estimator box */\n",
              "#sk-container-id-1 div.sk-estimator input.sk-toggleable__control:checked~label.sk-toggleable__label {\n",
              "  /* unfitted */\n",
              "  background-color: var(--sklearn-color-unfitted-level-2);\n",
              "}\n",
              "\n",
              "#sk-container-id-1 div.sk-estimator.fitted input.sk-toggleable__control:checked~label.sk-toggleable__label {\n",
              "  /* fitted */\n",
              "  background-color: var(--sklearn-color-fitted-level-2);\n",
              "}\n",
              "\n",
              "#sk-container-id-1 div.sk-label label.sk-toggleable__label,\n",
              "#sk-container-id-1 div.sk-label label {\n",
              "  /* The background is the default theme color */\n",
              "  color: var(--sklearn-color-text-on-default-background);\n",
              "}\n",
              "\n",
              "/* On hover, darken the color of the background */\n",
              "#sk-container-id-1 div.sk-label:hover label.sk-toggleable__label {\n",
              "  color: var(--sklearn-color-text);\n",
              "  background-color: var(--sklearn-color-unfitted-level-2);\n",
              "}\n",
              "\n",
              "/* Label box, darken color on hover, fitted */\n",
              "#sk-container-id-1 div.sk-label.fitted:hover label.sk-toggleable__label.fitted {\n",
              "  color: var(--sklearn-color-text);\n",
              "  background-color: var(--sklearn-color-fitted-level-2);\n",
              "}\n",
              "\n",
              "/* Estimator label */\n",
              "\n",
              "#sk-container-id-1 div.sk-label label {\n",
              "  font-family: monospace;\n",
              "  font-weight: bold;\n",
              "  display: inline-block;\n",
              "  line-height: 1.2em;\n",
              "}\n",
              "\n",
              "#sk-container-id-1 div.sk-label-container {\n",
              "  text-align: center;\n",
              "}\n",
              "\n",
              "/* Estimator-specific */\n",
              "#sk-container-id-1 div.sk-estimator {\n",
              "  font-family: monospace;\n",
              "  border: 1px dotted var(--sklearn-color-border-box);\n",
              "  border-radius: 0.25em;\n",
              "  box-sizing: border-box;\n",
              "  margin-bottom: 0.5em;\n",
              "  /* unfitted */\n",
              "  background-color: var(--sklearn-color-unfitted-level-0);\n",
              "}\n",
              "\n",
              "#sk-container-id-1 div.sk-estimator.fitted {\n",
              "  /* fitted */\n",
              "  background-color: var(--sklearn-color-fitted-level-0);\n",
              "}\n",
              "\n",
              "/* on hover */\n",
              "#sk-container-id-1 div.sk-estimator:hover {\n",
              "  /* unfitted */\n",
              "  background-color: var(--sklearn-color-unfitted-level-2);\n",
              "}\n",
              "\n",
              "#sk-container-id-1 div.sk-estimator.fitted:hover {\n",
              "  /* fitted */\n",
              "  background-color: var(--sklearn-color-fitted-level-2);\n",
              "}\n",
              "\n",
              "/* Specification for estimator info (e.g. \"i\" and \"?\") */\n",
              "\n",
              "/* Common style for \"i\" and \"?\" */\n",
              "\n",
              ".sk-estimator-doc-link,\n",
              "a:link.sk-estimator-doc-link,\n",
              "a:visited.sk-estimator-doc-link {\n",
              "  float: right;\n",
              "  font-size: smaller;\n",
              "  line-height: 1em;\n",
              "  font-family: monospace;\n",
              "  background-color: var(--sklearn-color-background);\n",
              "  border-radius: 1em;\n",
              "  height: 1em;\n",
              "  width: 1em;\n",
              "  text-decoration: none !important;\n",
              "  margin-left: 0.5em;\n",
              "  text-align: center;\n",
              "  /* unfitted */\n",
              "  border: var(--sklearn-color-unfitted-level-1) 1pt solid;\n",
              "  color: var(--sklearn-color-unfitted-level-1);\n",
              "}\n",
              "\n",
              ".sk-estimator-doc-link.fitted,\n",
              "a:link.sk-estimator-doc-link.fitted,\n",
              "a:visited.sk-estimator-doc-link.fitted {\n",
              "  /* fitted */\n",
              "  border: var(--sklearn-color-fitted-level-1) 1pt solid;\n",
              "  color: var(--sklearn-color-fitted-level-1);\n",
              "}\n",
              "\n",
              "/* On hover */\n",
              "div.sk-estimator:hover .sk-estimator-doc-link:hover,\n",
              ".sk-estimator-doc-link:hover,\n",
              "div.sk-label-container:hover .sk-estimator-doc-link:hover,\n",
              ".sk-estimator-doc-link:hover {\n",
              "  /* unfitted */\n",
              "  background-color: var(--sklearn-color-unfitted-level-3);\n",
              "  color: var(--sklearn-color-background);\n",
              "  text-decoration: none;\n",
              "}\n",
              "\n",
              "div.sk-estimator.fitted:hover .sk-estimator-doc-link.fitted:hover,\n",
              ".sk-estimator-doc-link.fitted:hover,\n",
              "div.sk-label-container:hover .sk-estimator-doc-link.fitted:hover,\n",
              ".sk-estimator-doc-link.fitted:hover {\n",
              "  /* fitted */\n",
              "  background-color: var(--sklearn-color-fitted-level-3);\n",
              "  color: var(--sklearn-color-background);\n",
              "  text-decoration: none;\n",
              "}\n",
              "\n",
              "/* Span, style for the box shown on hovering the info icon */\n",
              ".sk-estimator-doc-link span {\n",
              "  display: none;\n",
              "  z-index: 9999;\n",
              "  position: relative;\n",
              "  font-weight: normal;\n",
              "  right: .2ex;\n",
              "  padding: .5ex;\n",
              "  margin: .5ex;\n",
              "  width: min-content;\n",
              "  min-width: 20ex;\n",
              "  max-width: 50ex;\n",
              "  color: var(--sklearn-color-text);\n",
              "  box-shadow: 2pt 2pt 4pt #999;\n",
              "  /* unfitted */\n",
              "  background: var(--sklearn-color-unfitted-level-0);\n",
              "  border: .5pt solid var(--sklearn-color-unfitted-level-3);\n",
              "}\n",
              "\n",
              ".sk-estimator-doc-link.fitted span {\n",
              "  /* fitted */\n",
              "  background: var(--sklearn-color-fitted-level-0);\n",
              "  border: var(--sklearn-color-fitted-level-3);\n",
              "}\n",
              "\n",
              ".sk-estimator-doc-link:hover span {\n",
              "  display: block;\n",
              "}\n",
              "\n",
              "/* \"?\"-specific style due to the `<a>` HTML tag */\n",
              "\n",
              "#sk-container-id-1 a.estimator_doc_link {\n",
              "  float: right;\n",
              "  font-size: 1rem;\n",
              "  line-height: 1em;\n",
              "  font-family: monospace;\n",
              "  background-color: var(--sklearn-color-background);\n",
              "  border-radius: 1rem;\n",
              "  height: 1rem;\n",
              "  width: 1rem;\n",
              "  text-decoration: none;\n",
              "  /* unfitted */\n",
              "  color: var(--sklearn-color-unfitted-level-1);\n",
              "  border: var(--sklearn-color-unfitted-level-1) 1pt solid;\n",
              "}\n",
              "\n",
              "#sk-container-id-1 a.estimator_doc_link.fitted {\n",
              "  /* fitted */\n",
              "  border: var(--sklearn-color-fitted-level-1) 1pt solid;\n",
              "  color: var(--sklearn-color-fitted-level-1);\n",
              "}\n",
              "\n",
              "/* On hover */\n",
              "#sk-container-id-1 a.estimator_doc_link:hover {\n",
              "  /* unfitted */\n",
              "  background-color: var(--sklearn-color-unfitted-level-3);\n",
              "  color: var(--sklearn-color-background);\n",
              "  text-decoration: none;\n",
              "}\n",
              "\n",
              "#sk-container-id-1 a.estimator_doc_link.fitted:hover {\n",
              "  /* fitted */\n",
              "  background-color: var(--sklearn-color-fitted-level-3);\n",
              "}\n",
              "</style><div id=\"sk-container-id-1\" class=\"sk-top-container\"><div class=\"sk-text-repr-fallback\"><pre>Pipeline(steps=[(&#x27;columntransformer&#x27;,\n",
              "                 ColumnTransformer(transformers=[(&#x27;one-hot-encoder&#x27;,\n",
              "                                                  OneHotEncoder(handle_unknown=&#x27;ignore&#x27;),\n",
              "                                                  Index([&#x27;train&#x27;, &#x27;gare&#x27;], dtype=&#x27;object&#x27;)),\n",
              "                                                 (&#x27;passthrough-numeric&#x27;,\n",
              "                                                  &#x27;passthrough&#x27;,\n",
              "                                                  Index([&#x27;arret&#x27;, &#x27;p2q0&#x27;, &#x27;p3q0&#x27;, &#x27;p4q0&#x27;, &#x27;p0q2&#x27;, &#x27;p0q3&#x27;, &#x27;p0q4&#x27;, &#x27;annee&#x27;,\n",
              "       &#x27;mois&#x27;, &#x27;joursemaine&#x27;],\n",
              "      dtype=&#x27;object&#x27;))])),\n",
              "                (&#x27;xgbregressor&#x27;,\n",
              "                 XGBRegressor(base_score...\n",
              "                              feature_types=None, gamma=None, grow_policy=None,\n",
              "                              importance_type=None,\n",
              "                              interaction_constraints=None, learning_rate=None,\n",
              "                              max_bin=None, max_cat_threshold=None,\n",
              "                              max_cat_to_onehot=None, max_delta_step=None,\n",
              "                              max_depth=None, max_leaves=None,\n",
              "                              min_child_weight=None, missing=nan,\n",
              "                              monotone_constraints=None, multi_strategy=None,\n",
              "                              n_estimators=None, n_jobs=None,\n",
              "                              num_parallel_tree=None, random_state=None, ...))])</pre><b>In a Jupyter environment, please rerun this cell to show the HTML representation or trust the notebook. <br />On GitHub, the HTML representation is unable to render, please try loading this page with nbviewer.org.</b></div><div class=\"sk-container\" hidden><div class=\"sk-item sk-dashed-wrapped\"><div class=\"sk-label-container\"><div class=\"sk-label fitted sk-toggleable\"><input class=\"sk-toggleable__control sk-hidden--visually\" id=\"sk-estimator-id-1\" type=\"checkbox\" ><label for=\"sk-estimator-id-1\" class=\"sk-toggleable__label fitted sk-toggleable__label-arrow\"><div><div>Pipeline</div></div><div><a class=\"sk-estimator-doc-link fitted\" rel=\"noreferrer\" target=\"_blank\" href=\"https://scikit-learn.org/1.6/modules/generated/sklearn.pipeline.Pipeline.html\">?<span>Documentation for Pipeline</span></a><span class=\"sk-estimator-doc-link fitted\">i<span>Fitted</span></span></div></label><div class=\"sk-toggleable__content fitted\"><pre>Pipeline(steps=[(&#x27;columntransformer&#x27;,\n",
              "                 ColumnTransformer(transformers=[(&#x27;one-hot-encoder&#x27;,\n",
              "                                                  OneHotEncoder(handle_unknown=&#x27;ignore&#x27;),\n",
              "                                                  Index([&#x27;train&#x27;, &#x27;gare&#x27;], dtype=&#x27;object&#x27;)),\n",
              "                                                 (&#x27;passthrough-numeric&#x27;,\n",
              "                                                  &#x27;passthrough&#x27;,\n",
              "                                                  Index([&#x27;arret&#x27;, &#x27;p2q0&#x27;, &#x27;p3q0&#x27;, &#x27;p4q0&#x27;, &#x27;p0q2&#x27;, &#x27;p0q3&#x27;, &#x27;p0q4&#x27;, &#x27;annee&#x27;,\n",
              "       &#x27;mois&#x27;, &#x27;joursemaine&#x27;],\n",
              "      dtype=&#x27;object&#x27;))])),\n",
              "                (&#x27;xgbregressor&#x27;,\n",
              "                 XGBRegressor(base_score...\n",
              "                              feature_types=None, gamma=None, grow_policy=None,\n",
              "                              importance_type=None,\n",
              "                              interaction_constraints=None, learning_rate=None,\n",
              "                              max_bin=None, max_cat_threshold=None,\n",
              "                              max_cat_to_onehot=None, max_delta_step=None,\n",
              "                              max_depth=None, max_leaves=None,\n",
              "                              min_child_weight=None, missing=nan,\n",
              "                              monotone_constraints=None, multi_strategy=None,\n",
              "                              n_estimators=None, n_jobs=None,\n",
              "                              num_parallel_tree=None, random_state=None, ...))])</pre></div> </div></div><div class=\"sk-serial\"><div class=\"sk-item sk-dashed-wrapped\"><div class=\"sk-label-container\"><div class=\"sk-label fitted sk-toggleable\"><input class=\"sk-toggleable__control sk-hidden--visually\" id=\"sk-estimator-id-2\" type=\"checkbox\" ><label for=\"sk-estimator-id-2\" class=\"sk-toggleable__label fitted sk-toggleable__label-arrow\"><div><div>columntransformer: ColumnTransformer</div></div><div><a class=\"sk-estimator-doc-link fitted\" rel=\"noreferrer\" target=\"_blank\" href=\"https://scikit-learn.org/1.6/modules/generated/sklearn.compose.ColumnTransformer.html\">?<span>Documentation for columntransformer: ColumnTransformer</span></a></div></label><div class=\"sk-toggleable__content fitted\"><pre>ColumnTransformer(transformers=[(&#x27;one-hot-encoder&#x27;,\n",
              "                                 OneHotEncoder(handle_unknown=&#x27;ignore&#x27;),\n",
              "                                 Index([&#x27;train&#x27;, &#x27;gare&#x27;], dtype=&#x27;object&#x27;)),\n",
              "                                (&#x27;passthrough-numeric&#x27;, &#x27;passthrough&#x27;,\n",
              "                                 Index([&#x27;arret&#x27;, &#x27;p2q0&#x27;, &#x27;p3q0&#x27;, &#x27;p4q0&#x27;, &#x27;p0q2&#x27;, &#x27;p0q3&#x27;, &#x27;p0q4&#x27;, &#x27;annee&#x27;,\n",
              "       &#x27;mois&#x27;, &#x27;joursemaine&#x27;],\n",
              "      dtype=&#x27;object&#x27;))])</pre></div> </div></div><div class=\"sk-parallel\"><div class=\"sk-parallel-item\"><div class=\"sk-item\"><div class=\"sk-label-container\"><div class=\"sk-label fitted sk-toggleable\"><input class=\"sk-toggleable__control sk-hidden--visually\" id=\"sk-estimator-id-3\" type=\"checkbox\" ><label for=\"sk-estimator-id-3\" class=\"sk-toggleable__label fitted sk-toggleable__label-arrow\"><div><div>one-hot-encoder</div></div></label><div class=\"sk-toggleable__content fitted\"><pre>Index([&#x27;train&#x27;, &#x27;gare&#x27;], dtype=&#x27;object&#x27;)</pre></div> </div></div><div class=\"sk-serial\"><div class=\"sk-item\"><div class=\"sk-estimator fitted sk-toggleable\"><input class=\"sk-toggleable__control sk-hidden--visually\" id=\"sk-estimator-id-4\" type=\"checkbox\" ><label for=\"sk-estimator-id-4\" class=\"sk-toggleable__label fitted sk-toggleable__label-arrow\"><div><div>OneHotEncoder</div></div><div><a class=\"sk-estimator-doc-link fitted\" rel=\"noreferrer\" target=\"_blank\" href=\"https://scikit-learn.org/1.6/modules/generated/sklearn.preprocessing.OneHotEncoder.html\">?<span>Documentation for OneHotEncoder</span></a></div></label><div class=\"sk-toggleable__content fitted\"><pre>OneHotEncoder(handle_unknown=&#x27;ignore&#x27;)</pre></div> </div></div></div></div></div><div class=\"sk-parallel-item\"><div class=\"sk-item\"><div class=\"sk-label-container\"><div class=\"sk-label fitted sk-toggleable\"><input class=\"sk-toggleable__control sk-hidden--visually\" id=\"sk-estimator-id-5\" type=\"checkbox\" ><label for=\"sk-estimator-id-5\" class=\"sk-toggleable__label fitted sk-toggleable__label-arrow\"><div><div>passthrough-numeric</div></div></label><div class=\"sk-toggleable__content fitted\"><pre>Index([&#x27;arret&#x27;, &#x27;p2q0&#x27;, &#x27;p3q0&#x27;, &#x27;p4q0&#x27;, &#x27;p0q2&#x27;, &#x27;p0q3&#x27;, &#x27;p0q4&#x27;, &#x27;annee&#x27;,\n",
              "       &#x27;mois&#x27;, &#x27;joursemaine&#x27;],\n",
              "      dtype=&#x27;object&#x27;)</pre></div> </div></div><div class=\"sk-serial\"><div class=\"sk-item\"><div class=\"sk-estimator fitted sk-toggleable\"><input class=\"sk-toggleable__control sk-hidden--visually\" id=\"sk-estimator-id-6\" type=\"checkbox\" ><label for=\"sk-estimator-id-6\" class=\"sk-toggleable__label fitted sk-toggleable__label-arrow\"><div><div>passthrough</div></div></label><div class=\"sk-toggleable__content fitted\"><pre>passthrough</pre></div> </div></div></div></div></div></div></div><div class=\"sk-item\"><div class=\"sk-estimator fitted sk-toggleable\"><input class=\"sk-toggleable__control sk-hidden--visually\" id=\"sk-estimator-id-7\" type=\"checkbox\" ><label for=\"sk-estimator-id-7\" class=\"sk-toggleable__label fitted sk-toggleable__label-arrow\"><div><div>XGBRegressor</div></div></label><div class=\"sk-toggleable__content fitted\"><pre>XGBRegressor(base_score=None, booster=None, callbacks=None,\n",
              "             colsample_bylevel=None, colsample_bynode=None,\n",
              "             colsample_bytree=None, device=None, early_stopping_rounds=None,\n",
              "             enable_categorical=False, eval_metric=None, feature_types=None,\n",
              "             gamma=None, grow_policy=None, importance_type=None,\n",
              "             interaction_constraints=None, learning_rate=None, max_bin=None,\n",
              "             max_cat_threshold=None, max_cat_to_onehot=None,\n",
              "             max_delta_step=None, max_depth=None, max_leaves=None,\n",
              "             min_child_weight=None, missing=nan, monotone_constraints=None,\n",
              "             multi_strategy=None, n_estimators=None, n_jobs=None,\n",
              "             num_parallel_tree=None, random_state=None, ...)</pre></div> </div></div></div></div></div></div>"
            ],
            "text/plain": [
              "Pipeline(steps=[('columntransformer',\n",
              "                 ColumnTransformer(transformers=[('one-hot-encoder',\n",
              "                                                  OneHotEncoder(handle_unknown='ignore'),\n",
              "                                                  Index(['train', 'gare'], dtype='object')),\n",
              "                                                 ('passthrough-numeric',\n",
              "                                                  'passthrough',\n",
              "                                                  Index(['arret', 'p2q0', 'p3q0', 'p4q0', 'p0q2', 'p0q3', 'p0q4', 'annee',\n",
              "       'mois', 'joursemaine'],\n",
              "      dtype='object'))])),\n",
              "                ('xgbregressor',\n",
              "                 XGBRegressor(base_score...\n",
              "                              feature_types=None, gamma=None, grow_policy=None,\n",
              "                              importance_type=None,\n",
              "                              interaction_constraints=None, learning_rate=None,\n",
              "                              max_bin=None, max_cat_threshold=None,\n",
              "                              max_cat_to_onehot=None, max_delta_step=None,\n",
              "                              max_depth=None, max_leaves=None,\n",
              "                              min_child_weight=None, missing=nan,\n",
              "                              monotone_constraints=None, multi_strategy=None,\n",
              "                              n_estimators=None, n_jobs=None,\n",
              "                              num_parallel_tree=None, random_state=None, ...))])"
            ]
          },
          "execution_count": 17,
          "metadata": {},
          "output_type": "execute_result"
        }
      ],
      "source": [
        "# Pipeline\n",
        "# one hot encoding sur train et gare et le reste on touche pas\n",
        "one_hot_encoding_columns = one_hot_data.columns\n",
        "numeric_columns = data_numeric.columns\n",
        "\n",
        "preprocessor = ColumnTransformer([\n",
        "\n",
        "    ('one-hot-encoder', OneHotEncoder(handle_unknown='ignore'), one_hot_encoding_columns),\n",
        "    ('passthrough-numeric', 'passthrough', numeric_columns)\n",
        "])\n",
        "model = make_pipeline(\n",
        "    preprocessor,\n",
        "    XGBRegressor()\n",
        ")\n",
        "\n",
        "model.fit(data_train, target_train)"
      ]
    },
    {
      "cell_type": "code",
      "execution_count": 18,
      "metadata": {
        "colab": {
          "base_uri": "https://localhost:8080/"
        },
        "id": "jqucQH2GPIeu",
        "outputId": "803a815b-94b7-43ed-85b9-71dd33e1b360"
      },
      "outputs": [
        {
          "name": "stdout",
          "output_type": "stream",
          "text": [
            "Mean Absolute Error: 0.7828776836395264\n"
          ]
        }
      ],
      "source": [
        "# test de performance\n",
        "from sklearn.metrics import mean_absolute_error\n",
        "predictions = model.predict(data_test)\n",
        "mae = mean_absolute_error(target_test, predictions)\n",
        "print(\"Mean Absolute Error:\", mae)"
      ]
    },
    {
      "cell_type": "markdown",
      "metadata": {
        "id": "34yG615WPRn5"
      },
      "source": [
        "# Pipeline avec df ext"
      ]
    },
    {
      "cell_type": "code",
      "execution_count": 19,
      "metadata": {
        "id": "7IreqWwTPUZS"
      },
      "outputs": [],
      "source": [
        "# chargeons les données\n",
        "x_test_ext = pd.read_csv('data/x_test_ext.csv', index_col=0)\n",
        "x_train_ext = pd.read_csv('data/x_train_ext.csv', index_col=0)\n"
      ]
    },
    {
      "cell_type": "code",
      "execution_count": 20,
      "metadata": {
        "colab": {
          "base_uri": "https://localhost:8080/",
          "height": 256
        },
        "id": "irGh2MdNPlbU",
        "outputId": "f4f9535d-b737-442b-b759-9f472b9c6426"
      },
      "outputs": [
        {
          "data": {
            "application/vnd.microsoft.datawrangler.viewer.v0+json": {
              "columns": [
                {
                  "name": "index",
                  "rawType": "int64",
                  "type": "integer"
                },
                {
                  "name": "train",
                  "rawType": "object",
                  "type": "string"
                },
                {
                  "name": "gare",
                  "rawType": "object",
                  "type": "string"
                },
                {
                  "name": "arret",
                  "rawType": "int64",
                  "type": "integer"
                },
                {
                  "name": "p2q0",
                  "rawType": "int64",
                  "type": "integer"
                },
                {
                  "name": "p3q0",
                  "rawType": "int64",
                  "type": "integer"
                },
                {
                  "name": "p4q0",
                  "rawType": "int64",
                  "type": "integer"
                },
                {
                  "name": "p0q2",
                  "rawType": "int64",
                  "type": "integer"
                },
                {
                  "name": "p0q3",
                  "rawType": "int64",
                  "type": "integer"
                },
                {
                  "name": "p0q4",
                  "rawType": "int64",
                  "type": "integer"
                },
                {
                  "name": "mois",
                  "rawType": "int64",
                  "type": "integer"
                },
                {
                  "name": "joursemaine",
                  "rawType": "int64",
                  "type": "integer"
                },
                {
                  "name": "RR",
                  "rawType": "float64",
                  "type": "float"
                },
                {
                  "name": "TN",
                  "rawType": "float64",
                  "type": "float"
                },
                {
                  "name": "TX",
                  "rawType": "float64",
                  "type": "float"
                },
                {
                  "name": "TM",
                  "rawType": "float64",
                  "type": "float"
                },
                {
                  "name": "DG",
                  "rawType": "float64",
                  "type": "float"
                },
                {
                  "name": "FFM",
                  "rawType": "float64",
                  "type": "float"
                },
                {
                  "name": "FXY",
                  "rawType": "float64",
                  "type": "float"
                },
                {
                  "name": "DXY",
                  "rawType": "float64",
                  "type": "float"
                },
                {
                  "name": "DRR",
                  "rawType": "float64",
                  "type": "float"
                },
                {
                  "name": "vacances",
                  "rawType": "int64",
                  "type": "integer"
                }
              ],
              "conversionMethod": "pd.DataFrame",
              "ref": "16a2b2e3-715a-4743-8262-c1befd6ecc63",
              "rows": [
                [
                  "0",
                  "VBXNMF",
                  "KYF",
                  "8",
                  "0",
                  "0",
                  "1",
                  "-3",
                  "-1",
                  "-2",
                  "4",
                  "0",
                  "0.0",
                  "5.4",
                  "12.9",
                  "8.5",
                  "0.0",
                  "3.9",
                  "6.2",
                  "60.0",
                  "0.0",
                  "0"
                ],
                [
                  "1",
                  "VBXNMF",
                  "JLR",
                  "9",
                  "0",
                  "0",
                  "0",
                  "1",
                  "0",
                  "1",
                  "4",
                  "0",
                  "0.0",
                  "5.4",
                  "12.9",
                  "8.5",
                  "0.0",
                  "3.9",
                  "6.2",
                  "60.0",
                  "0.0",
                  "0"
                ],
                [
                  "2",
                  "VBXNMF",
                  "EOH",
                  "10",
                  "-1",
                  "0",
                  "0",
                  "-1",
                  "0",
                  "0",
                  "4",
                  "0",
                  "0.0",
                  "5.4",
                  "12.9",
                  "8.5",
                  "0.0",
                  "3.9",
                  "6.2",
                  "60.0",
                  "0.0",
                  "0"
                ],
                [
                  "3",
                  "VBXNMF",
                  "VXY",
                  "11",
                  "-1",
                  "-1",
                  "0",
                  "2",
                  "-2",
                  "0",
                  "4",
                  "0",
                  "0.0",
                  "5.4",
                  "12.9",
                  "8.5",
                  "0.0",
                  "3.9",
                  "6.2",
                  "60.0",
                  "0.0",
                  "0"
                ],
                [
                  "4",
                  "VBXNMF",
                  "OCB",
                  "12",
                  "-1",
                  "-1",
                  "-1",
                  "-1",
                  "3",
                  "2",
                  "4",
                  "0",
                  "0.0",
                  "5.4",
                  "12.9",
                  "8.5",
                  "0.0",
                  "3.9",
                  "6.2",
                  "60.0",
                  "0.0",
                  "0"
                ]
              ],
              "shape": {
                "columns": 21,
                "rows": 5
              }
            },
            "text/html": [
              "<div>\n",
              "<style scoped>\n",
              "    .dataframe tbody tr th:only-of-type {\n",
              "        vertical-align: middle;\n",
              "    }\n",
              "\n",
              "    .dataframe tbody tr th {\n",
              "        vertical-align: top;\n",
              "    }\n",
              "\n",
              "    .dataframe thead th {\n",
              "        text-align: right;\n",
              "    }\n",
              "</style>\n",
              "<table border=\"1\" class=\"dataframe\">\n",
              "  <thead>\n",
              "    <tr style=\"text-align: right;\">\n",
              "      <th></th>\n",
              "      <th>train</th>\n",
              "      <th>gare</th>\n",
              "      <th>arret</th>\n",
              "      <th>p2q0</th>\n",
              "      <th>p3q0</th>\n",
              "      <th>p4q0</th>\n",
              "      <th>p0q2</th>\n",
              "      <th>p0q3</th>\n",
              "      <th>p0q4</th>\n",
              "      <th>mois</th>\n",
              "      <th>...</th>\n",
              "      <th>RR</th>\n",
              "      <th>TN</th>\n",
              "      <th>TX</th>\n",
              "      <th>TM</th>\n",
              "      <th>DG</th>\n",
              "      <th>FFM</th>\n",
              "      <th>FXY</th>\n",
              "      <th>DXY</th>\n",
              "      <th>DRR</th>\n",
              "      <th>vacances</th>\n",
              "    </tr>\n",
              "  </thead>\n",
              "  <tbody>\n",
              "    <tr>\n",
              "      <th>0</th>\n",
              "      <td>VBXNMF</td>\n",
              "      <td>KYF</td>\n",
              "      <td>8</td>\n",
              "      <td>0</td>\n",
              "      <td>0</td>\n",
              "      <td>1</td>\n",
              "      <td>-3</td>\n",
              "      <td>-1</td>\n",
              "      <td>-2</td>\n",
              "      <td>4</td>\n",
              "      <td>...</td>\n",
              "      <td>0.0</td>\n",
              "      <td>5.4</td>\n",
              "      <td>12.9</td>\n",
              "      <td>8.5</td>\n",
              "      <td>0.0</td>\n",
              "      <td>3.9</td>\n",
              "      <td>6.2</td>\n",
              "      <td>60.0</td>\n",
              "      <td>0.0</td>\n",
              "      <td>0</td>\n",
              "    </tr>\n",
              "    <tr>\n",
              "      <th>1</th>\n",
              "      <td>VBXNMF</td>\n",
              "      <td>JLR</td>\n",
              "      <td>9</td>\n",
              "      <td>0</td>\n",
              "      <td>0</td>\n",
              "      <td>0</td>\n",
              "      <td>1</td>\n",
              "      <td>0</td>\n",
              "      <td>1</td>\n",
              "      <td>4</td>\n",
              "      <td>...</td>\n",
              "      <td>0.0</td>\n",
              "      <td>5.4</td>\n",
              "      <td>12.9</td>\n",
              "      <td>8.5</td>\n",
              "      <td>0.0</td>\n",
              "      <td>3.9</td>\n",
              "      <td>6.2</td>\n",
              "      <td>60.0</td>\n",
              "      <td>0.0</td>\n",
              "      <td>0</td>\n",
              "    </tr>\n",
              "    <tr>\n",
              "      <th>2</th>\n",
              "      <td>VBXNMF</td>\n",
              "      <td>EOH</td>\n",
              "      <td>10</td>\n",
              "      <td>-1</td>\n",
              "      <td>0</td>\n",
              "      <td>0</td>\n",
              "      <td>-1</td>\n",
              "      <td>0</td>\n",
              "      <td>0</td>\n",
              "      <td>4</td>\n",
              "      <td>...</td>\n",
              "      <td>0.0</td>\n",
              "      <td>5.4</td>\n",
              "      <td>12.9</td>\n",
              "      <td>8.5</td>\n",
              "      <td>0.0</td>\n",
              "      <td>3.9</td>\n",
              "      <td>6.2</td>\n",
              "      <td>60.0</td>\n",
              "      <td>0.0</td>\n",
              "      <td>0</td>\n",
              "    </tr>\n",
              "    <tr>\n",
              "      <th>3</th>\n",
              "      <td>VBXNMF</td>\n",
              "      <td>VXY</td>\n",
              "      <td>11</td>\n",
              "      <td>-1</td>\n",
              "      <td>-1</td>\n",
              "      <td>0</td>\n",
              "      <td>2</td>\n",
              "      <td>-2</td>\n",
              "      <td>0</td>\n",
              "      <td>4</td>\n",
              "      <td>...</td>\n",
              "      <td>0.0</td>\n",
              "      <td>5.4</td>\n",
              "      <td>12.9</td>\n",
              "      <td>8.5</td>\n",
              "      <td>0.0</td>\n",
              "      <td>3.9</td>\n",
              "      <td>6.2</td>\n",
              "      <td>60.0</td>\n",
              "      <td>0.0</td>\n",
              "      <td>0</td>\n",
              "    </tr>\n",
              "    <tr>\n",
              "      <th>4</th>\n",
              "      <td>VBXNMF</td>\n",
              "      <td>OCB</td>\n",
              "      <td>12</td>\n",
              "      <td>-1</td>\n",
              "      <td>-1</td>\n",
              "      <td>-1</td>\n",
              "      <td>-1</td>\n",
              "      <td>3</td>\n",
              "      <td>2</td>\n",
              "      <td>4</td>\n",
              "      <td>...</td>\n",
              "      <td>0.0</td>\n",
              "      <td>5.4</td>\n",
              "      <td>12.9</td>\n",
              "      <td>8.5</td>\n",
              "      <td>0.0</td>\n",
              "      <td>3.9</td>\n",
              "      <td>6.2</td>\n",
              "      <td>60.0</td>\n",
              "      <td>0.0</td>\n",
              "      <td>0</td>\n",
              "    </tr>\n",
              "  </tbody>\n",
              "</table>\n",
              "<p>5 rows × 21 columns</p>\n",
              "</div>"
            ],
            "text/plain": [
              "    train gare  arret  p2q0  p3q0  p4q0  p0q2  p0q3  p0q4  mois  ...   RR  \\\n",
              "0  VBXNMF  KYF      8     0     0     1    -3    -1    -2     4  ...  0.0   \n",
              "1  VBXNMF  JLR      9     0     0     0     1     0     1     4  ...  0.0   \n",
              "2  VBXNMF  EOH     10    -1     0     0    -1     0     0     4  ...  0.0   \n",
              "3  VBXNMF  VXY     11    -1    -1     0     2    -2     0     4  ...  0.0   \n",
              "4  VBXNMF  OCB     12    -1    -1    -1    -1     3     2     4  ...  0.0   \n",
              "\n",
              "    TN    TX   TM   DG  FFM  FXY   DXY  DRR  vacances  \n",
              "0  5.4  12.9  8.5  0.0  3.9  6.2  60.0  0.0         0  \n",
              "1  5.4  12.9  8.5  0.0  3.9  6.2  60.0  0.0         0  \n",
              "2  5.4  12.9  8.5  0.0  3.9  6.2  60.0  0.0         0  \n",
              "3  5.4  12.9  8.5  0.0  3.9  6.2  60.0  0.0         0  \n",
              "4  5.4  12.9  8.5  0.0  3.9  6.2  60.0  0.0         0  \n",
              "\n",
              "[5 rows x 21 columns]"
            ]
          },
          "execution_count": 20,
          "metadata": {},
          "output_type": "execute_result"
        }
      ],
      "source": [
        "# aperçu\n",
        "x_train_ext.head()"
      ]
    },
    {
      "cell_type": "code",
      "execution_count": 21,
      "metadata": {
        "colab": {
          "base_uri": "https://localhost:8080/",
          "height": 256
        },
        "id": "LttOgqKhPtCW",
        "outputId": "9ab182ea-f93e-42cf-de16-2d82ba2808cf"
      },
      "outputs": [
        {
          "data": {
            "application/vnd.microsoft.datawrangler.viewer.v0+json": {
              "columns": [
                {
                  "name": "index",
                  "rawType": "int64",
                  "type": "integer"
                },
                {
                  "name": "train",
                  "rawType": "object",
                  "type": "string"
                },
                {
                  "name": "gare",
                  "rawType": "object",
                  "type": "string"
                },
                {
                  "name": "arret",
                  "rawType": "int64",
                  "type": "integer"
                },
                {
                  "name": "p2q0",
                  "rawType": "int64",
                  "type": "integer"
                },
                {
                  "name": "p3q0",
                  "rawType": "int64",
                  "type": "integer"
                },
                {
                  "name": "p4q0",
                  "rawType": "int64",
                  "type": "integer"
                },
                {
                  "name": "p0q2",
                  "rawType": "int64",
                  "type": "integer"
                },
                {
                  "name": "p0q3",
                  "rawType": "int64",
                  "type": "integer"
                },
                {
                  "name": "p0q4",
                  "rawType": "int64",
                  "type": "integer"
                },
                {
                  "name": "mois",
                  "rawType": "int64",
                  "type": "integer"
                },
                {
                  "name": "joursemaine",
                  "rawType": "int64",
                  "type": "integer"
                },
                {
                  "name": "RR",
                  "rawType": "float64",
                  "type": "float"
                },
                {
                  "name": "TN",
                  "rawType": "float64",
                  "type": "float"
                },
                {
                  "name": "TX",
                  "rawType": "float64",
                  "type": "float"
                },
                {
                  "name": "TM",
                  "rawType": "float64",
                  "type": "float"
                },
                {
                  "name": "DG",
                  "rawType": "float64",
                  "type": "float"
                },
                {
                  "name": "FFM",
                  "rawType": "float64",
                  "type": "float"
                },
                {
                  "name": "FXY",
                  "rawType": "float64",
                  "type": "float"
                },
                {
                  "name": "DXY",
                  "rawType": "float64",
                  "type": "float"
                },
                {
                  "name": "DRR",
                  "rawType": "float64",
                  "type": "float"
                },
                {
                  "name": "vacances",
                  "rawType": "int64",
                  "type": "integer"
                }
              ],
              "conversionMethod": "pd.DataFrame",
              "ref": "ae4c1e01-97b3-4c98-9eeb-01e48a318d46",
              "rows": [
                [
                  "0",
                  "ZPQEKP",
                  "VXY",
                  "12",
                  "0",
                  "0",
                  "-2",
                  "-4",
                  "-2",
                  "-4",
                  "11",
                  "0",
                  "1.4",
                  "11.9",
                  "17.1",
                  "14.5",
                  "0.0",
                  "4.4",
                  "7.7",
                  "250.0",
                  "243.0",
                  "0"
                ],
                [
                  "1",
                  "KIQSRA",
                  "VXY",
                  "12",
                  "0",
                  "0",
                  "-1",
                  "1",
                  "-1",
                  "0",
                  "11",
                  "0",
                  "1.4",
                  "11.9",
                  "17.1",
                  "14.5",
                  "0.0",
                  "4.4",
                  "7.7",
                  "250.0",
                  "243.0",
                  "0"
                ],
                [
                  "2",
                  "QQJYYT",
                  "VXY",
                  "12",
                  "0",
                  "1",
                  "-1",
                  "1",
                  "-1",
                  "1",
                  "11",
                  "0",
                  "1.4",
                  "11.9",
                  "17.1",
                  "14.5",
                  "0.0",
                  "4.4",
                  "7.7",
                  "250.0",
                  "243.0",
                  "0"
                ],
                [
                  "3",
                  "FVKYMZ",
                  "VXY",
                  "12",
                  "0",
                  "0",
                  "-1",
                  "-1",
                  "0",
                  "-1",
                  "11",
                  "0",
                  "1.4",
                  "11.9",
                  "17.1",
                  "14.5",
                  "0.0",
                  "4.4",
                  "7.7",
                  "250.0",
                  "243.0",
                  "0"
                ],
                [
                  "4",
                  "GXNZBY",
                  "AZA",
                  "12",
                  "1",
                  "-2",
                  "0",
                  "0",
                  "0",
                  "0",
                  "11",
                  "0",
                  "1.4",
                  "11.9",
                  "17.1",
                  "14.5",
                  "0.0",
                  "4.4",
                  "7.7",
                  "250.0",
                  "243.0",
                  "0"
                ]
              ],
              "shape": {
                "columns": 21,
                "rows": 5
              }
            },
            "text/html": [
              "<div>\n",
              "<style scoped>\n",
              "    .dataframe tbody tr th:only-of-type {\n",
              "        vertical-align: middle;\n",
              "    }\n",
              "\n",
              "    .dataframe tbody tr th {\n",
              "        vertical-align: top;\n",
              "    }\n",
              "\n",
              "    .dataframe thead th {\n",
              "        text-align: right;\n",
              "    }\n",
              "</style>\n",
              "<table border=\"1\" class=\"dataframe\">\n",
              "  <thead>\n",
              "    <tr style=\"text-align: right;\">\n",
              "      <th></th>\n",
              "      <th>train</th>\n",
              "      <th>gare</th>\n",
              "      <th>arret</th>\n",
              "      <th>p2q0</th>\n",
              "      <th>p3q0</th>\n",
              "      <th>p4q0</th>\n",
              "      <th>p0q2</th>\n",
              "      <th>p0q3</th>\n",
              "      <th>p0q4</th>\n",
              "      <th>mois</th>\n",
              "      <th>...</th>\n",
              "      <th>RR</th>\n",
              "      <th>TN</th>\n",
              "      <th>TX</th>\n",
              "      <th>TM</th>\n",
              "      <th>DG</th>\n",
              "      <th>FFM</th>\n",
              "      <th>FXY</th>\n",
              "      <th>DXY</th>\n",
              "      <th>DRR</th>\n",
              "      <th>vacances</th>\n",
              "    </tr>\n",
              "  </thead>\n",
              "  <tbody>\n",
              "    <tr>\n",
              "      <th>0</th>\n",
              "      <td>ZPQEKP</td>\n",
              "      <td>VXY</td>\n",
              "      <td>12</td>\n",
              "      <td>0</td>\n",
              "      <td>0</td>\n",
              "      <td>-2</td>\n",
              "      <td>-4</td>\n",
              "      <td>-2</td>\n",
              "      <td>-4</td>\n",
              "      <td>11</td>\n",
              "      <td>...</td>\n",
              "      <td>1.4</td>\n",
              "      <td>11.9</td>\n",
              "      <td>17.1</td>\n",
              "      <td>14.5</td>\n",
              "      <td>0.0</td>\n",
              "      <td>4.4</td>\n",
              "      <td>7.7</td>\n",
              "      <td>250.0</td>\n",
              "      <td>243.0</td>\n",
              "      <td>0</td>\n",
              "    </tr>\n",
              "    <tr>\n",
              "      <th>1</th>\n",
              "      <td>KIQSRA</td>\n",
              "      <td>VXY</td>\n",
              "      <td>12</td>\n",
              "      <td>0</td>\n",
              "      <td>0</td>\n",
              "      <td>-1</td>\n",
              "      <td>1</td>\n",
              "      <td>-1</td>\n",
              "      <td>0</td>\n",
              "      <td>11</td>\n",
              "      <td>...</td>\n",
              "      <td>1.4</td>\n",
              "      <td>11.9</td>\n",
              "      <td>17.1</td>\n",
              "      <td>14.5</td>\n",
              "      <td>0.0</td>\n",
              "      <td>4.4</td>\n",
              "      <td>7.7</td>\n",
              "      <td>250.0</td>\n",
              "      <td>243.0</td>\n",
              "      <td>0</td>\n",
              "    </tr>\n",
              "    <tr>\n",
              "      <th>2</th>\n",
              "      <td>QQJYYT</td>\n",
              "      <td>VXY</td>\n",
              "      <td>12</td>\n",
              "      <td>0</td>\n",
              "      <td>1</td>\n",
              "      <td>-1</td>\n",
              "      <td>1</td>\n",
              "      <td>-1</td>\n",
              "      <td>1</td>\n",
              "      <td>11</td>\n",
              "      <td>...</td>\n",
              "      <td>1.4</td>\n",
              "      <td>11.9</td>\n",
              "      <td>17.1</td>\n",
              "      <td>14.5</td>\n",
              "      <td>0.0</td>\n",
              "      <td>4.4</td>\n",
              "      <td>7.7</td>\n",
              "      <td>250.0</td>\n",
              "      <td>243.0</td>\n",
              "      <td>0</td>\n",
              "    </tr>\n",
              "    <tr>\n",
              "      <th>3</th>\n",
              "      <td>FVKYMZ</td>\n",
              "      <td>VXY</td>\n",
              "      <td>12</td>\n",
              "      <td>0</td>\n",
              "      <td>0</td>\n",
              "      <td>-1</td>\n",
              "      <td>-1</td>\n",
              "      <td>0</td>\n",
              "      <td>-1</td>\n",
              "      <td>11</td>\n",
              "      <td>...</td>\n",
              "      <td>1.4</td>\n",
              "      <td>11.9</td>\n",
              "      <td>17.1</td>\n",
              "      <td>14.5</td>\n",
              "      <td>0.0</td>\n",
              "      <td>4.4</td>\n",
              "      <td>7.7</td>\n",
              "      <td>250.0</td>\n",
              "      <td>243.0</td>\n",
              "      <td>0</td>\n",
              "    </tr>\n",
              "    <tr>\n",
              "      <th>4</th>\n",
              "      <td>GXNZBY</td>\n",
              "      <td>AZA</td>\n",
              "      <td>12</td>\n",
              "      <td>1</td>\n",
              "      <td>-2</td>\n",
              "      <td>0</td>\n",
              "      <td>0</td>\n",
              "      <td>0</td>\n",
              "      <td>0</td>\n",
              "      <td>11</td>\n",
              "      <td>...</td>\n",
              "      <td>1.4</td>\n",
              "      <td>11.9</td>\n",
              "      <td>17.1</td>\n",
              "      <td>14.5</td>\n",
              "      <td>0.0</td>\n",
              "      <td>4.4</td>\n",
              "      <td>7.7</td>\n",
              "      <td>250.0</td>\n",
              "      <td>243.0</td>\n",
              "      <td>0</td>\n",
              "    </tr>\n",
              "  </tbody>\n",
              "</table>\n",
              "<p>5 rows × 21 columns</p>\n",
              "</div>"
            ],
            "text/plain": [
              "    train gare  arret  p2q0  p3q0  p4q0  p0q2  p0q3  p0q4  mois  ...   RR  \\\n",
              "0  ZPQEKP  VXY     12     0     0    -2    -4    -2    -4    11  ...  1.4   \n",
              "1  KIQSRA  VXY     12     0     0    -1     1    -1     0    11  ...  1.4   \n",
              "2  QQJYYT  VXY     12     0     1    -1     1    -1     1    11  ...  1.4   \n",
              "3  FVKYMZ  VXY     12     0     0    -1    -1     0    -1    11  ...  1.4   \n",
              "4  GXNZBY  AZA     12     1    -2     0     0     0     0    11  ...  1.4   \n",
              "\n",
              "     TN    TX    TM   DG  FFM  FXY    DXY    DRR  vacances  \n",
              "0  11.9  17.1  14.5  0.0  4.4  7.7  250.0  243.0         0  \n",
              "1  11.9  17.1  14.5  0.0  4.4  7.7  250.0  243.0         0  \n",
              "2  11.9  17.1  14.5  0.0  4.4  7.7  250.0  243.0         0  \n",
              "3  11.9  17.1  14.5  0.0  4.4  7.7  250.0  243.0         0  \n",
              "4  11.9  17.1  14.5  0.0  4.4  7.7  250.0  243.0         0  \n",
              "\n",
              "[5 rows x 21 columns]"
            ]
          },
          "execution_count": 21,
          "metadata": {},
          "output_type": "execute_result"
        }
      ],
      "source": [
        "x_test_ext.head()"
      ]
    },
    {
      "cell_type": "code",
      "execution_count": 22,
      "metadata": {
        "colab": {
          "base_uri": "https://localhost:8080/"
        },
        "id": "uKWRWN7rPwJb",
        "outputId": "c2462905-c815-4b49-ffa7-3bd2f0c7746c"
      },
      "outputs": [
        {
          "data": {
            "text/plain": [
              "(667264, 21)"
            ]
          },
          "execution_count": 22,
          "metadata": {},
          "output_type": "execute_result"
        }
      ],
      "source": [
        "x_train_ext.shape"
      ]
    },
    {
      "cell_type": "code",
      "execution_count": 23,
      "metadata": {
        "colab": {
          "base_uri": "https://localhost:8080/"
        },
        "id": "ZQVhL-Q8Px5e",
        "outputId": "0dc67fbb-81be-4c38-f263-4c485ff7373e"
      },
      "outputs": [
        {
          "data": {
            "text/plain": [
              "(20657, 21)"
            ]
          },
          "execution_count": 23,
          "metadata": {},
          "output_type": "execute_result"
        }
      ],
      "source": [
        "x_test_ext.shape"
      ]
    },
    {
      "cell_type": "code",
      "execution_count": 24,
      "metadata": {
        "id": "pm0Jkje6P_HW"
      },
      "outputs": [],
      "source": [
        "# faisons le split\n",
        "from sklearn.model_selection import train_test_split\n",
        "data_train, data_test, target_train, target_test = train_test_split(x_train_ext,\n",
        "                                                                    y_train,\n",
        "                                                                    test_size=0.3,\n",
        "                                                                    random_state=42)"
      ]
    },
    {
      "cell_type": "code",
      "execution_count": 25,
      "metadata": {
        "id": "rlPS3l24Qji0"
      },
      "outputs": [],
      "source": [
        "# besoin de redefinir ces colonnes car nouvelles colonnes ext\n",
        "one_hot_data = data_train[['train', 'gare']]\n",
        "data_numeric = data_train.drop(columns=['train', 'gare'])"
      ]
    },
    {
      "cell_type": "code",
      "execution_count": 26,
      "metadata": {
        "colab": {
          "base_uri": "https://localhost:8080/",
          "height": 265
        },
        "id": "i9X8ZlJwP_DL",
        "outputId": "a498c283-41c7-4950-dfc7-be6198d7d358"
      },
      "outputs": [
        {
          "data": {
            "text/html": [
              "<style>#sk-container-id-2 {\n",
              "  /* Definition of color scheme common for light and dark mode */\n",
              "  --sklearn-color-text: #000;\n",
              "  --sklearn-color-text-muted: #666;\n",
              "  --sklearn-color-line: gray;\n",
              "  /* Definition of color scheme for unfitted estimators */\n",
              "  --sklearn-color-unfitted-level-0: #fff5e6;\n",
              "  --sklearn-color-unfitted-level-1: #f6e4d2;\n",
              "  --sklearn-color-unfitted-level-2: #ffe0b3;\n",
              "  --sklearn-color-unfitted-level-3: chocolate;\n",
              "  /* Definition of color scheme for fitted estimators */\n",
              "  --sklearn-color-fitted-level-0: #f0f8ff;\n",
              "  --sklearn-color-fitted-level-1: #d4ebff;\n",
              "  --sklearn-color-fitted-level-2: #b3dbfd;\n",
              "  --sklearn-color-fitted-level-3: cornflowerblue;\n",
              "\n",
              "  /* Specific color for light theme */\n",
              "  --sklearn-color-text-on-default-background: var(--sg-text-color, var(--theme-code-foreground, var(--jp-content-font-color1, black)));\n",
              "  --sklearn-color-background: var(--sg-background-color, var(--theme-background, var(--jp-layout-color0, white)));\n",
              "  --sklearn-color-border-box: var(--sg-text-color, var(--theme-code-foreground, var(--jp-content-font-color1, black)));\n",
              "  --sklearn-color-icon: #696969;\n",
              "\n",
              "  @media (prefers-color-scheme: dark) {\n",
              "    /* Redefinition of color scheme for dark theme */\n",
              "    --sklearn-color-text-on-default-background: var(--sg-text-color, var(--theme-code-foreground, var(--jp-content-font-color1, white)));\n",
              "    --sklearn-color-background: var(--sg-background-color, var(--theme-background, var(--jp-layout-color0, #111)));\n",
              "    --sklearn-color-border-box: var(--sg-text-color, var(--theme-code-foreground, var(--jp-content-font-color1, white)));\n",
              "    --sklearn-color-icon: #878787;\n",
              "  }\n",
              "}\n",
              "\n",
              "#sk-container-id-2 {\n",
              "  color: var(--sklearn-color-text);\n",
              "}\n",
              "\n",
              "#sk-container-id-2 pre {\n",
              "  padding: 0;\n",
              "}\n",
              "\n",
              "#sk-container-id-2 input.sk-hidden--visually {\n",
              "  border: 0;\n",
              "  clip: rect(1px 1px 1px 1px);\n",
              "  clip: rect(1px, 1px, 1px, 1px);\n",
              "  height: 1px;\n",
              "  margin: -1px;\n",
              "  overflow: hidden;\n",
              "  padding: 0;\n",
              "  position: absolute;\n",
              "  width: 1px;\n",
              "}\n",
              "\n",
              "#sk-container-id-2 div.sk-dashed-wrapped {\n",
              "  border: 1px dashed var(--sklearn-color-line);\n",
              "  margin: 0 0.4em 0.5em 0.4em;\n",
              "  box-sizing: border-box;\n",
              "  padding-bottom: 0.4em;\n",
              "  background-color: var(--sklearn-color-background);\n",
              "}\n",
              "\n",
              "#sk-container-id-2 div.sk-container {\n",
              "  /* jupyter's `normalize.less` sets `[hidden] { display: none; }`\n",
              "     but bootstrap.min.css set `[hidden] { display: none !important; }`\n",
              "     so we also need the `!important` here to be able to override the\n",
              "     default hidden behavior on the sphinx rendered scikit-learn.org.\n",
              "     See: https://github.com/scikit-learn/scikit-learn/issues/21755 */\n",
              "  display: inline-block !important;\n",
              "  position: relative;\n",
              "}\n",
              "\n",
              "#sk-container-id-2 div.sk-text-repr-fallback {\n",
              "  display: none;\n",
              "}\n",
              "\n",
              "div.sk-parallel-item,\n",
              "div.sk-serial,\n",
              "div.sk-item {\n",
              "  /* draw centered vertical line to link estimators */\n",
              "  background-image: linear-gradient(var(--sklearn-color-text-on-default-background), var(--sklearn-color-text-on-default-background));\n",
              "  background-size: 2px 100%;\n",
              "  background-repeat: no-repeat;\n",
              "  background-position: center center;\n",
              "}\n",
              "\n",
              "/* Parallel-specific style estimator block */\n",
              "\n",
              "#sk-container-id-2 div.sk-parallel-item::after {\n",
              "  content: \"\";\n",
              "  width: 100%;\n",
              "  border-bottom: 2px solid var(--sklearn-color-text-on-default-background);\n",
              "  flex-grow: 1;\n",
              "}\n",
              "\n",
              "#sk-container-id-2 div.sk-parallel {\n",
              "  display: flex;\n",
              "  align-items: stretch;\n",
              "  justify-content: center;\n",
              "  background-color: var(--sklearn-color-background);\n",
              "  position: relative;\n",
              "}\n",
              "\n",
              "#sk-container-id-2 div.sk-parallel-item {\n",
              "  display: flex;\n",
              "  flex-direction: column;\n",
              "}\n",
              "\n",
              "#sk-container-id-2 div.sk-parallel-item:first-child::after {\n",
              "  align-self: flex-end;\n",
              "  width: 50%;\n",
              "}\n",
              "\n",
              "#sk-container-id-2 div.sk-parallel-item:last-child::after {\n",
              "  align-self: flex-start;\n",
              "  width: 50%;\n",
              "}\n",
              "\n",
              "#sk-container-id-2 div.sk-parallel-item:only-child::after {\n",
              "  width: 0;\n",
              "}\n",
              "\n",
              "/* Serial-specific style estimator block */\n",
              "\n",
              "#sk-container-id-2 div.sk-serial {\n",
              "  display: flex;\n",
              "  flex-direction: column;\n",
              "  align-items: center;\n",
              "  background-color: var(--sklearn-color-background);\n",
              "  padding-right: 1em;\n",
              "  padding-left: 1em;\n",
              "}\n",
              "\n",
              "\n",
              "/* Toggleable style: style used for estimator/Pipeline/ColumnTransformer box that is\n",
              "clickable and can be expanded/collapsed.\n",
              "- Pipeline and ColumnTransformer use this feature and define the default style\n",
              "- Estimators will overwrite some part of the style using the `sk-estimator` class\n",
              "*/\n",
              "\n",
              "/* Pipeline and ColumnTransformer style (default) */\n",
              "\n",
              "#sk-container-id-2 div.sk-toggleable {\n",
              "  /* Default theme specific background. It is overwritten whether we have a\n",
              "  specific estimator or a Pipeline/ColumnTransformer */\n",
              "  background-color: var(--sklearn-color-background);\n",
              "}\n",
              "\n",
              "/* Toggleable label */\n",
              "#sk-container-id-2 label.sk-toggleable__label {\n",
              "  cursor: pointer;\n",
              "  display: flex;\n",
              "  width: 100%;\n",
              "  margin-bottom: 0;\n",
              "  padding: 0.5em;\n",
              "  box-sizing: border-box;\n",
              "  text-align: center;\n",
              "  align-items: start;\n",
              "  justify-content: space-between;\n",
              "  gap: 0.5em;\n",
              "}\n",
              "\n",
              "#sk-container-id-2 label.sk-toggleable__label .caption {\n",
              "  font-size: 0.6rem;\n",
              "  font-weight: lighter;\n",
              "  color: var(--sklearn-color-text-muted);\n",
              "}\n",
              "\n",
              "#sk-container-id-2 label.sk-toggleable__label-arrow:before {\n",
              "  /* Arrow on the left of the label */\n",
              "  content: \"▸\";\n",
              "  float: left;\n",
              "  margin-right: 0.25em;\n",
              "  color: var(--sklearn-color-icon);\n",
              "}\n",
              "\n",
              "#sk-container-id-2 label.sk-toggleable__label-arrow:hover:before {\n",
              "  color: var(--sklearn-color-text);\n",
              "}\n",
              "\n",
              "/* Toggleable content - dropdown */\n",
              "\n",
              "#sk-container-id-2 div.sk-toggleable__content {\n",
              "  max-height: 0;\n",
              "  max-width: 0;\n",
              "  overflow: hidden;\n",
              "  text-align: left;\n",
              "  /* unfitted */\n",
              "  background-color: var(--sklearn-color-unfitted-level-0);\n",
              "}\n",
              "\n",
              "#sk-container-id-2 div.sk-toggleable__content.fitted {\n",
              "  /* fitted */\n",
              "  background-color: var(--sklearn-color-fitted-level-0);\n",
              "}\n",
              "\n",
              "#sk-container-id-2 div.sk-toggleable__content pre {\n",
              "  margin: 0.2em;\n",
              "  border-radius: 0.25em;\n",
              "  color: var(--sklearn-color-text);\n",
              "  /* unfitted */\n",
              "  background-color: var(--sklearn-color-unfitted-level-0);\n",
              "}\n",
              "\n",
              "#sk-container-id-2 div.sk-toggleable__content.fitted pre {\n",
              "  /* unfitted */\n",
              "  background-color: var(--sklearn-color-fitted-level-0);\n",
              "}\n",
              "\n",
              "#sk-container-id-2 input.sk-toggleable__control:checked~div.sk-toggleable__content {\n",
              "  /* Expand drop-down */\n",
              "  max-height: 200px;\n",
              "  max-width: 100%;\n",
              "  overflow: auto;\n",
              "}\n",
              "\n",
              "#sk-container-id-2 input.sk-toggleable__control:checked~label.sk-toggleable__label-arrow:before {\n",
              "  content: \"▾\";\n",
              "}\n",
              "\n",
              "/* Pipeline/ColumnTransformer-specific style */\n",
              "\n",
              "#sk-container-id-2 div.sk-label input.sk-toggleable__control:checked~label.sk-toggleable__label {\n",
              "  color: var(--sklearn-color-text);\n",
              "  background-color: var(--sklearn-color-unfitted-level-2);\n",
              "}\n",
              "\n",
              "#sk-container-id-2 div.sk-label.fitted input.sk-toggleable__control:checked~label.sk-toggleable__label {\n",
              "  background-color: var(--sklearn-color-fitted-level-2);\n",
              "}\n",
              "\n",
              "/* Estimator-specific style */\n",
              "\n",
              "/* Colorize estimator box */\n",
              "#sk-container-id-2 div.sk-estimator input.sk-toggleable__control:checked~label.sk-toggleable__label {\n",
              "  /* unfitted */\n",
              "  background-color: var(--sklearn-color-unfitted-level-2);\n",
              "}\n",
              "\n",
              "#sk-container-id-2 div.sk-estimator.fitted input.sk-toggleable__control:checked~label.sk-toggleable__label {\n",
              "  /* fitted */\n",
              "  background-color: var(--sklearn-color-fitted-level-2);\n",
              "}\n",
              "\n",
              "#sk-container-id-2 div.sk-label label.sk-toggleable__label,\n",
              "#sk-container-id-2 div.sk-label label {\n",
              "  /* The background is the default theme color */\n",
              "  color: var(--sklearn-color-text-on-default-background);\n",
              "}\n",
              "\n",
              "/* On hover, darken the color of the background */\n",
              "#sk-container-id-2 div.sk-label:hover label.sk-toggleable__label {\n",
              "  color: var(--sklearn-color-text);\n",
              "  background-color: var(--sklearn-color-unfitted-level-2);\n",
              "}\n",
              "\n",
              "/* Label box, darken color on hover, fitted */\n",
              "#sk-container-id-2 div.sk-label.fitted:hover label.sk-toggleable__label.fitted {\n",
              "  color: var(--sklearn-color-text);\n",
              "  background-color: var(--sklearn-color-fitted-level-2);\n",
              "}\n",
              "\n",
              "/* Estimator label */\n",
              "\n",
              "#sk-container-id-2 div.sk-label label {\n",
              "  font-family: monospace;\n",
              "  font-weight: bold;\n",
              "  display: inline-block;\n",
              "  line-height: 1.2em;\n",
              "}\n",
              "\n",
              "#sk-container-id-2 div.sk-label-container {\n",
              "  text-align: center;\n",
              "}\n",
              "\n",
              "/* Estimator-specific */\n",
              "#sk-container-id-2 div.sk-estimator {\n",
              "  font-family: monospace;\n",
              "  border: 1px dotted var(--sklearn-color-border-box);\n",
              "  border-radius: 0.25em;\n",
              "  box-sizing: border-box;\n",
              "  margin-bottom: 0.5em;\n",
              "  /* unfitted */\n",
              "  background-color: var(--sklearn-color-unfitted-level-0);\n",
              "}\n",
              "\n",
              "#sk-container-id-2 div.sk-estimator.fitted {\n",
              "  /* fitted */\n",
              "  background-color: var(--sklearn-color-fitted-level-0);\n",
              "}\n",
              "\n",
              "/* on hover */\n",
              "#sk-container-id-2 div.sk-estimator:hover {\n",
              "  /* unfitted */\n",
              "  background-color: var(--sklearn-color-unfitted-level-2);\n",
              "}\n",
              "\n",
              "#sk-container-id-2 div.sk-estimator.fitted:hover {\n",
              "  /* fitted */\n",
              "  background-color: var(--sklearn-color-fitted-level-2);\n",
              "}\n",
              "\n",
              "/* Specification for estimator info (e.g. \"i\" and \"?\") */\n",
              "\n",
              "/* Common style for \"i\" and \"?\" */\n",
              "\n",
              ".sk-estimator-doc-link,\n",
              "a:link.sk-estimator-doc-link,\n",
              "a:visited.sk-estimator-doc-link {\n",
              "  float: right;\n",
              "  font-size: smaller;\n",
              "  line-height: 1em;\n",
              "  font-family: monospace;\n",
              "  background-color: var(--sklearn-color-background);\n",
              "  border-radius: 1em;\n",
              "  height: 1em;\n",
              "  width: 1em;\n",
              "  text-decoration: none !important;\n",
              "  margin-left: 0.5em;\n",
              "  text-align: center;\n",
              "  /* unfitted */\n",
              "  border: var(--sklearn-color-unfitted-level-1) 1pt solid;\n",
              "  color: var(--sklearn-color-unfitted-level-1);\n",
              "}\n",
              "\n",
              ".sk-estimator-doc-link.fitted,\n",
              "a:link.sk-estimator-doc-link.fitted,\n",
              "a:visited.sk-estimator-doc-link.fitted {\n",
              "  /* fitted */\n",
              "  border: var(--sklearn-color-fitted-level-1) 1pt solid;\n",
              "  color: var(--sklearn-color-fitted-level-1);\n",
              "}\n",
              "\n",
              "/* On hover */\n",
              "div.sk-estimator:hover .sk-estimator-doc-link:hover,\n",
              ".sk-estimator-doc-link:hover,\n",
              "div.sk-label-container:hover .sk-estimator-doc-link:hover,\n",
              ".sk-estimator-doc-link:hover {\n",
              "  /* unfitted */\n",
              "  background-color: var(--sklearn-color-unfitted-level-3);\n",
              "  color: var(--sklearn-color-background);\n",
              "  text-decoration: none;\n",
              "}\n",
              "\n",
              "div.sk-estimator.fitted:hover .sk-estimator-doc-link.fitted:hover,\n",
              ".sk-estimator-doc-link.fitted:hover,\n",
              "div.sk-label-container:hover .sk-estimator-doc-link.fitted:hover,\n",
              ".sk-estimator-doc-link.fitted:hover {\n",
              "  /* fitted */\n",
              "  background-color: var(--sklearn-color-fitted-level-3);\n",
              "  color: var(--sklearn-color-background);\n",
              "  text-decoration: none;\n",
              "}\n",
              "\n",
              "/* Span, style for the box shown on hovering the info icon */\n",
              ".sk-estimator-doc-link span {\n",
              "  display: none;\n",
              "  z-index: 9999;\n",
              "  position: relative;\n",
              "  font-weight: normal;\n",
              "  right: .2ex;\n",
              "  padding: .5ex;\n",
              "  margin: .5ex;\n",
              "  width: min-content;\n",
              "  min-width: 20ex;\n",
              "  max-width: 50ex;\n",
              "  color: var(--sklearn-color-text);\n",
              "  box-shadow: 2pt 2pt 4pt #999;\n",
              "  /* unfitted */\n",
              "  background: var(--sklearn-color-unfitted-level-0);\n",
              "  border: .5pt solid var(--sklearn-color-unfitted-level-3);\n",
              "}\n",
              "\n",
              ".sk-estimator-doc-link.fitted span {\n",
              "  /* fitted */\n",
              "  background: var(--sklearn-color-fitted-level-0);\n",
              "  border: var(--sklearn-color-fitted-level-3);\n",
              "}\n",
              "\n",
              ".sk-estimator-doc-link:hover span {\n",
              "  display: block;\n",
              "}\n",
              "\n",
              "/* \"?\"-specific style due to the `<a>` HTML tag */\n",
              "\n",
              "#sk-container-id-2 a.estimator_doc_link {\n",
              "  float: right;\n",
              "  font-size: 1rem;\n",
              "  line-height: 1em;\n",
              "  font-family: monospace;\n",
              "  background-color: var(--sklearn-color-background);\n",
              "  border-radius: 1rem;\n",
              "  height: 1rem;\n",
              "  width: 1rem;\n",
              "  text-decoration: none;\n",
              "  /* unfitted */\n",
              "  color: var(--sklearn-color-unfitted-level-1);\n",
              "  border: var(--sklearn-color-unfitted-level-1) 1pt solid;\n",
              "}\n",
              "\n",
              "#sk-container-id-2 a.estimator_doc_link.fitted {\n",
              "  /* fitted */\n",
              "  border: var(--sklearn-color-fitted-level-1) 1pt solid;\n",
              "  color: var(--sklearn-color-fitted-level-1);\n",
              "}\n",
              "\n",
              "/* On hover */\n",
              "#sk-container-id-2 a.estimator_doc_link:hover {\n",
              "  /* unfitted */\n",
              "  background-color: var(--sklearn-color-unfitted-level-3);\n",
              "  color: var(--sklearn-color-background);\n",
              "  text-decoration: none;\n",
              "}\n",
              "\n",
              "#sk-container-id-2 a.estimator_doc_link.fitted:hover {\n",
              "  /* fitted */\n",
              "  background-color: var(--sklearn-color-fitted-level-3);\n",
              "}\n",
              "</style><div id=\"sk-container-id-2\" class=\"sk-top-container\"><div class=\"sk-text-repr-fallback\"><pre>Pipeline(steps=[(&#x27;columntransformer&#x27;,\n",
              "                 ColumnTransformer(transformers=[(&#x27;one-hot-encoder&#x27;,\n",
              "                                                  OneHotEncoder(handle_unknown=&#x27;ignore&#x27;),\n",
              "                                                  Index([&#x27;train&#x27;, &#x27;gare&#x27;], dtype=&#x27;object&#x27;)),\n",
              "                                                 (&#x27;passthrough-numeric&#x27;,\n",
              "                                                  &#x27;passthrough&#x27;,\n",
              "                                                  Index([&#x27;arret&#x27;, &#x27;p2q0&#x27;, &#x27;p3q0&#x27;, &#x27;p4q0&#x27;, &#x27;p0q2&#x27;, &#x27;p0q3&#x27;, &#x27;p0q4&#x27;, &#x27;mois&#x27;,\n",
              "       &#x27;joursemaine&#x27;, &#x27;RR&#x27;, &#x27;TN&#x27;, &#x27;TX&#x27;, &#x27;TM&#x27;, &#x27;DG&#x27;, &#x27;FFM&#x27;, &#x27;FXY&#x27;, &#x27;DXY&#x27;, &#x27;DRR&#x27;,\n",
              "       &#x27;vacances&#x27;],\n",
              "      dtype=&#x27;...\n",
              "                              feature_types=None, gamma=None, grow_policy=None,\n",
              "                              importance_type=None,\n",
              "                              interaction_constraints=None,\n",
              "                              learning_rate=0.28441939194671634, max_bin=None,\n",
              "                              max_cat_threshold=None, max_cat_to_onehot=None,\n",
              "                              max_delta_step=None, max_depth=10,\n",
              "                              max_leaves=None, min_child_weight=1, missing=nan,\n",
              "                              monotone_constraints=None, multi_strategy=None,\n",
              "                              n_estimators=917, n_jobs=None,\n",
              "                              num_parallel_tree=None, random_state=None, ...))])</pre><b>In a Jupyter environment, please rerun this cell to show the HTML representation or trust the notebook. <br />On GitHub, the HTML representation is unable to render, please try loading this page with nbviewer.org.</b></div><div class=\"sk-container\" hidden><div class=\"sk-item sk-dashed-wrapped\"><div class=\"sk-label-container\"><div class=\"sk-label fitted sk-toggleable\"><input class=\"sk-toggleable__control sk-hidden--visually\" id=\"sk-estimator-id-8\" type=\"checkbox\" ><label for=\"sk-estimator-id-8\" class=\"sk-toggleable__label fitted sk-toggleable__label-arrow\"><div><div>Pipeline</div></div><div><a class=\"sk-estimator-doc-link fitted\" rel=\"noreferrer\" target=\"_blank\" href=\"https://scikit-learn.org/1.6/modules/generated/sklearn.pipeline.Pipeline.html\">?<span>Documentation for Pipeline</span></a><span class=\"sk-estimator-doc-link fitted\">i<span>Fitted</span></span></div></label><div class=\"sk-toggleable__content fitted\"><pre>Pipeline(steps=[(&#x27;columntransformer&#x27;,\n",
              "                 ColumnTransformer(transformers=[(&#x27;one-hot-encoder&#x27;,\n",
              "                                                  OneHotEncoder(handle_unknown=&#x27;ignore&#x27;),\n",
              "                                                  Index([&#x27;train&#x27;, &#x27;gare&#x27;], dtype=&#x27;object&#x27;)),\n",
              "                                                 (&#x27;passthrough-numeric&#x27;,\n",
              "                                                  &#x27;passthrough&#x27;,\n",
              "                                                  Index([&#x27;arret&#x27;, &#x27;p2q0&#x27;, &#x27;p3q0&#x27;, &#x27;p4q0&#x27;, &#x27;p0q2&#x27;, &#x27;p0q3&#x27;, &#x27;p0q4&#x27;, &#x27;mois&#x27;,\n",
              "       &#x27;joursemaine&#x27;, &#x27;RR&#x27;, &#x27;TN&#x27;, &#x27;TX&#x27;, &#x27;TM&#x27;, &#x27;DG&#x27;, &#x27;FFM&#x27;, &#x27;FXY&#x27;, &#x27;DXY&#x27;, &#x27;DRR&#x27;,\n",
              "       &#x27;vacances&#x27;],\n",
              "      dtype=&#x27;...\n",
              "                              feature_types=None, gamma=None, grow_policy=None,\n",
              "                              importance_type=None,\n",
              "                              interaction_constraints=None,\n",
              "                              learning_rate=0.28441939194671634, max_bin=None,\n",
              "                              max_cat_threshold=None, max_cat_to_onehot=None,\n",
              "                              max_delta_step=None, max_depth=10,\n",
              "                              max_leaves=None, min_child_weight=1, missing=nan,\n",
              "                              monotone_constraints=None, multi_strategy=None,\n",
              "                              n_estimators=917, n_jobs=None,\n",
              "                              num_parallel_tree=None, random_state=None, ...))])</pre></div> </div></div><div class=\"sk-serial\"><div class=\"sk-item sk-dashed-wrapped\"><div class=\"sk-label-container\"><div class=\"sk-label fitted sk-toggleable\"><input class=\"sk-toggleable__control sk-hidden--visually\" id=\"sk-estimator-id-9\" type=\"checkbox\" ><label for=\"sk-estimator-id-9\" class=\"sk-toggleable__label fitted sk-toggleable__label-arrow\"><div><div>columntransformer: ColumnTransformer</div></div><div><a class=\"sk-estimator-doc-link fitted\" rel=\"noreferrer\" target=\"_blank\" href=\"https://scikit-learn.org/1.6/modules/generated/sklearn.compose.ColumnTransformer.html\">?<span>Documentation for columntransformer: ColumnTransformer</span></a></div></label><div class=\"sk-toggleable__content fitted\"><pre>ColumnTransformer(transformers=[(&#x27;one-hot-encoder&#x27;,\n",
              "                                 OneHotEncoder(handle_unknown=&#x27;ignore&#x27;),\n",
              "                                 Index([&#x27;train&#x27;, &#x27;gare&#x27;], dtype=&#x27;object&#x27;)),\n",
              "                                (&#x27;passthrough-numeric&#x27;, &#x27;passthrough&#x27;,\n",
              "                                 Index([&#x27;arret&#x27;, &#x27;p2q0&#x27;, &#x27;p3q0&#x27;, &#x27;p4q0&#x27;, &#x27;p0q2&#x27;, &#x27;p0q3&#x27;, &#x27;p0q4&#x27;, &#x27;mois&#x27;,\n",
              "       &#x27;joursemaine&#x27;, &#x27;RR&#x27;, &#x27;TN&#x27;, &#x27;TX&#x27;, &#x27;TM&#x27;, &#x27;DG&#x27;, &#x27;FFM&#x27;, &#x27;FXY&#x27;, &#x27;DXY&#x27;, &#x27;DRR&#x27;,\n",
              "       &#x27;vacances&#x27;],\n",
              "      dtype=&#x27;object&#x27;))])</pre></div> </div></div><div class=\"sk-parallel\"><div class=\"sk-parallel-item\"><div class=\"sk-item\"><div class=\"sk-label-container\"><div class=\"sk-label fitted sk-toggleable\"><input class=\"sk-toggleable__control sk-hidden--visually\" id=\"sk-estimator-id-10\" type=\"checkbox\" ><label for=\"sk-estimator-id-10\" class=\"sk-toggleable__label fitted sk-toggleable__label-arrow\"><div><div>one-hot-encoder</div></div></label><div class=\"sk-toggleable__content fitted\"><pre>Index([&#x27;train&#x27;, &#x27;gare&#x27;], dtype=&#x27;object&#x27;)</pre></div> </div></div><div class=\"sk-serial\"><div class=\"sk-item\"><div class=\"sk-estimator fitted sk-toggleable\"><input class=\"sk-toggleable__control sk-hidden--visually\" id=\"sk-estimator-id-11\" type=\"checkbox\" ><label for=\"sk-estimator-id-11\" class=\"sk-toggleable__label fitted sk-toggleable__label-arrow\"><div><div>OneHotEncoder</div></div><div><a class=\"sk-estimator-doc-link fitted\" rel=\"noreferrer\" target=\"_blank\" href=\"https://scikit-learn.org/1.6/modules/generated/sklearn.preprocessing.OneHotEncoder.html\">?<span>Documentation for OneHotEncoder</span></a></div></label><div class=\"sk-toggleable__content fitted\"><pre>OneHotEncoder(handle_unknown=&#x27;ignore&#x27;)</pre></div> </div></div></div></div></div><div class=\"sk-parallel-item\"><div class=\"sk-item\"><div class=\"sk-label-container\"><div class=\"sk-label fitted sk-toggleable\"><input class=\"sk-toggleable__control sk-hidden--visually\" id=\"sk-estimator-id-12\" type=\"checkbox\" ><label for=\"sk-estimator-id-12\" class=\"sk-toggleable__label fitted sk-toggleable__label-arrow\"><div><div>passthrough-numeric</div></div></label><div class=\"sk-toggleable__content fitted\"><pre>Index([&#x27;arret&#x27;, &#x27;p2q0&#x27;, &#x27;p3q0&#x27;, &#x27;p4q0&#x27;, &#x27;p0q2&#x27;, &#x27;p0q3&#x27;, &#x27;p0q4&#x27;, &#x27;mois&#x27;,\n",
              "       &#x27;joursemaine&#x27;, &#x27;RR&#x27;, &#x27;TN&#x27;, &#x27;TX&#x27;, &#x27;TM&#x27;, &#x27;DG&#x27;, &#x27;FFM&#x27;, &#x27;FXY&#x27;, &#x27;DXY&#x27;, &#x27;DRR&#x27;,\n",
              "       &#x27;vacances&#x27;],\n",
              "      dtype=&#x27;object&#x27;)</pre></div> </div></div><div class=\"sk-serial\"><div class=\"sk-item\"><div class=\"sk-estimator fitted sk-toggleable\"><input class=\"sk-toggleable__control sk-hidden--visually\" id=\"sk-estimator-id-13\" type=\"checkbox\" ><label for=\"sk-estimator-id-13\" class=\"sk-toggleable__label fitted sk-toggleable__label-arrow\"><div><div>passthrough</div></div></label><div class=\"sk-toggleable__content fitted\"><pre>passthrough</pre></div> </div></div></div></div></div></div></div><div class=\"sk-item\"><div class=\"sk-estimator fitted sk-toggleable\"><input class=\"sk-toggleable__control sk-hidden--visually\" id=\"sk-estimator-id-14\" type=\"checkbox\" ><label for=\"sk-estimator-id-14\" class=\"sk-toggleable__label fitted sk-toggleable__label-arrow\"><div><div>XGBRegressor</div></div></label><div class=\"sk-toggleable__content fitted\"><pre>XGBRegressor(base_score=None, booster=None, callbacks=None,\n",
              "             colsample_bylevel=None, colsample_bynode=None,\n",
              "             colsample_bytree=0.5683749396215096, device=None,\n",
              "             early_stopping_rounds=None, enable_categorical=False,\n",
              "             eval_metric=None, feature_types=None, gamma=None, grow_policy=None,\n",
              "             importance_type=None, interaction_constraints=None,\n",
              "             learning_rate=0.28441939194671634, max_bin=None,\n",
              "             max_cat_threshold=None, max_cat_to_onehot=None,\n",
              "             max_delta_step=None, max_depth=10, max_leaves=None,\n",
              "             min_child_weight=1, missing=nan, monotone_constraints=None,\n",
              "             multi_strategy=None, n_estimators=917, n_jobs=None,\n",
              "             num_parallel_tree=None, random_state=None, ...)</pre></div> </div></div></div></div></div></div>"
            ],
            "text/plain": [
              "Pipeline(steps=[('columntransformer',\n",
              "                 ColumnTransformer(transformers=[('one-hot-encoder',\n",
              "                                                  OneHotEncoder(handle_unknown='ignore'),\n",
              "                                                  Index(['train', 'gare'], dtype='object')),\n",
              "                                                 ('passthrough-numeric',\n",
              "                                                  'passthrough',\n",
              "                                                  Index(['arret', 'p2q0', 'p3q0', 'p4q0', 'p0q2', 'p0q3', 'p0q4', 'mois',\n",
              "       'joursemaine', 'RR', 'TN', 'TX', 'TM', 'DG', 'FFM', 'FXY', 'DXY', 'DRR',\n",
              "       'vacances'],\n",
              "      dtype='...\n",
              "                              feature_types=None, gamma=None, grow_policy=None,\n",
              "                              importance_type=None,\n",
              "                              interaction_constraints=None,\n",
              "                              learning_rate=0.28441939194671634, max_bin=None,\n",
              "                              max_cat_threshold=None, max_cat_to_onehot=None,\n",
              "                              max_delta_step=None, max_depth=10,\n",
              "                              max_leaves=None, min_child_weight=1, missing=nan,\n",
              "                              monotone_constraints=None, multi_strategy=None,\n",
              "                              n_estimators=917, n_jobs=None,\n",
              "                              num_parallel_tree=None, random_state=None, ...))])"
            ]
          },
          "execution_count": 26,
          "metadata": {},
          "output_type": "execute_result"
        }
      ],
      "source": [
        "# Pipeline ext\n",
        "# comme les noms de colonnes et noms data sont les mêmes pas besoin de renommer one hot\n",
        "one_hot_encoding_columns = one_hot_data.columns\n",
        "numeric_columns = data_numeric.columns\n",
        "\n",
        "preprocessor = ColumnTransformer([\n",
        "\n",
        "    ('one-hot-encoder', OneHotEncoder(handle_unknown='ignore'), one_hot_encoding_columns),\n",
        "    ('passthrough-numeric', 'passthrough', numeric_columns)\n",
        "])\n",
        "model_ext = make_pipeline(\n",
        "    preprocessor,\n",
        "    XGBRegressor(n_estimators=917,\n",
        "                 max_depth=10,\n",
        "                 learning_rate=0.28441939194671634,\n",
        "                 subsample=0.9998173252736964,\n",
        "                 colsample_bytree=0.5683749396215096,\n",
        "                 min_child_weight=1)\n",
        ")\n",
        "\n",
        "model_ext.fit(data_train, target_train)\n",
        "\n",
        "\n",
        "# {'n_estimators': 917, 'max_depth': 10, 'learning_rate': 0.28441939194671634,\n",
        "# 'subsample': 0.9998173252736964, 'colsample_bytree': 0.5683749396215096, 'min_child_weight': 1}"
      ]
    },
    {
      "cell_type": "code",
      "execution_count": 27,
      "metadata": {
        "colab": {
          "base_uri": "https://localhost:8080/"
        },
        "id": "HA9jvasBP_AU",
        "outputId": "2eb8b2e6-eef8-4857-d9de-4831d1ccd179"
      },
      "outputs": [
        {
          "name": "stdout",
          "output_type": "stream",
          "text": [
            "Mean Absolute Error: 0.7315687537193298\n"
          ]
        }
      ],
      "source": [
        "# test de performance\n",
        "# le money time, on essaye de battre le 0.7828\n",
        "from sklearn.metrics import mean_absolute_error\n",
        "predictions = model_ext.predict(data_test)\n",
        "mae = mean_absolute_error(target_test, predictions)\n",
        "print(\"Mean Absolute Error:\", mae)"
      ]
    },
    {
      "cell_type": "markdown",
      "metadata": {
        "id": "DQXBcDncRDSo"
      },
      "source": [
        "C'est un peu mieux mais ça a l'air quand même un peu marginal ... On s'en fout on va train le XGB sur ces données et même si ça nous fait gagner 1 place c'est benef"
      ]
    },
    {
      "cell_type": "markdown",
      "metadata": {
        "id": "NNwpnCC7RNjG"
      },
      "source": [
        "# LASSO"
      ]
    },
    {
      "cell_type": "markdown",
      "metadata": {
        "id": "IdRlJo9WRPZX"
      },
      "source": [
        "On va essayer de faire un lasso pour voir quelles sont les colonnes qui ont de l'importance. Et dans ce cas là, est-ce que ça marche mieux"
      ]
    },
    {
      "cell_type": "code",
      "execution_count": 28,
      "metadata": {
        "colab": {
          "base_uri": "https://localhost:8080/",
          "height": 490
        },
        "id": "K8O3g29RP-6n",
        "outputId": "46d42c6b-febe-44f8-be44-7e7a7af7311a"
      },
      "outputs": [
        {
          "ename": "ValueError",
          "evalue": "Input X contains NaN.\nLasso does not accept missing values encoded as NaN natively. For supervised learning, you might want to consider sklearn.ensemble.HistGradientBoostingClassifier and Regressor which accept missing values encoded as NaNs natively. Alternatively, it is possible to preprocess the data, for instance by using an imputer transformer in a pipeline or drop samples with missing values. See https://scikit-learn.org/stable/modules/impute.html You can find a list of all estimators that handle NaN values at the following page: https://scikit-learn.org/stable/modules/impute.html#estimators-that-handle-nan-values",
          "output_type": "error",
          "traceback": [
            "\u001b[0;31m---------------------------------------------------------------------------\u001b[0m",
            "\u001b[0;31mValueError\u001b[0m                                Traceback (most recent call last)",
            "Cell \u001b[0;32mIn[28], line 23\u001b[0m\n\u001b[1;32m     18\u001b[0m \u001b[38;5;66;03m# Create and train the Lasso model\u001b[39;00m\n\u001b[1;32m     19\u001b[0m lasso_model \u001b[38;5;241m=\u001b[39m make_pipeline(\n\u001b[1;32m     20\u001b[0m     preprocessor,\n\u001b[1;32m     21\u001b[0m     Lasso(alpha\u001b[38;5;241m=\u001b[39m\u001b[38;5;241m0.1\u001b[39m) \u001b[38;5;66;03m# You might need to tune the alpha parameter\u001b[39;00m\n\u001b[1;32m     22\u001b[0m )\n\u001b[0;32m---> 23\u001b[0m \u001b[43mlasso_model\u001b[49m\u001b[38;5;241;43m.\u001b[39;49m\u001b[43mfit\u001b[49m\u001b[43m(\u001b[49m\u001b[43mdata_train\u001b[49m\u001b[43m,\u001b[49m\u001b[43m \u001b[49m\u001b[43mtarget_train\u001b[49m\u001b[43m)\u001b[49m\n\u001b[1;32m     25\u001b[0m \u001b[38;5;66;03m# Get feature importances from the Lasso model\u001b[39;00m\n\u001b[1;32m     26\u001b[0m \u001b[38;5;66;03m# Access the named_steps\u001b[39;00m\n\u001b[1;32m     27\u001b[0m lasso_coefficients \u001b[38;5;241m=\u001b[39m lasso_model\u001b[38;5;241m.\u001b[39mnamed_steps[\u001b[38;5;124m'\u001b[39m\u001b[38;5;124mlasso\u001b[39m\u001b[38;5;124m'\u001b[39m]\u001b[38;5;241m.\u001b[39mcoef_\n",
            "File \u001b[0;32m~/.global_envs/jupyter-global-3.9/lib/python3.9/site-packages/sklearn/base.py:1389\u001b[0m, in \u001b[0;36m_fit_context.<locals>.decorator.<locals>.wrapper\u001b[0;34m(estimator, *args, **kwargs)\u001b[0m\n\u001b[1;32m   1382\u001b[0m     estimator\u001b[38;5;241m.\u001b[39m_validate_params()\n\u001b[1;32m   1384\u001b[0m \u001b[38;5;28;01mwith\u001b[39;00m config_context(\n\u001b[1;32m   1385\u001b[0m     skip_parameter_validation\u001b[38;5;241m=\u001b[39m(\n\u001b[1;32m   1386\u001b[0m         prefer_skip_nested_validation \u001b[38;5;129;01mor\u001b[39;00m global_skip_validation\n\u001b[1;32m   1387\u001b[0m     )\n\u001b[1;32m   1388\u001b[0m ):\n\u001b[0;32m-> 1389\u001b[0m     \u001b[38;5;28;01mreturn\u001b[39;00m \u001b[43mfit_method\u001b[49m\u001b[43m(\u001b[49m\u001b[43mestimator\u001b[49m\u001b[43m,\u001b[49m\u001b[43m \u001b[49m\u001b[38;5;241;43m*\u001b[39;49m\u001b[43margs\u001b[49m\u001b[43m,\u001b[49m\u001b[43m \u001b[49m\u001b[38;5;241;43m*\u001b[39;49m\u001b[38;5;241;43m*\u001b[39;49m\u001b[43mkwargs\u001b[49m\u001b[43m)\u001b[49m\n",
            "File \u001b[0;32m~/.global_envs/jupyter-global-3.9/lib/python3.9/site-packages/sklearn/pipeline.py:662\u001b[0m, in \u001b[0;36mPipeline.fit\u001b[0;34m(self, X, y, **params)\u001b[0m\n\u001b[1;32m    656\u001b[0m     \u001b[38;5;28;01mif\u001b[39;00m \u001b[38;5;28mself\u001b[39m\u001b[38;5;241m.\u001b[39m_final_estimator \u001b[38;5;241m!=\u001b[39m \u001b[38;5;124m\"\u001b[39m\u001b[38;5;124mpassthrough\u001b[39m\u001b[38;5;124m\"\u001b[39m:\n\u001b[1;32m    657\u001b[0m         last_step_params \u001b[38;5;241m=\u001b[39m \u001b[38;5;28mself\u001b[39m\u001b[38;5;241m.\u001b[39m_get_metadata_for_step(\n\u001b[1;32m    658\u001b[0m             step_idx\u001b[38;5;241m=\u001b[39m\u001b[38;5;28mlen\u001b[39m(\u001b[38;5;28mself\u001b[39m) \u001b[38;5;241m-\u001b[39m \u001b[38;5;241m1\u001b[39m,\n\u001b[1;32m    659\u001b[0m             step_params\u001b[38;5;241m=\u001b[39mrouted_params[\u001b[38;5;28mself\u001b[39m\u001b[38;5;241m.\u001b[39msteps[\u001b[38;5;241m-\u001b[39m\u001b[38;5;241m1\u001b[39m][\u001b[38;5;241m0\u001b[39m]],\n\u001b[1;32m    660\u001b[0m             all_params\u001b[38;5;241m=\u001b[39mparams,\n\u001b[1;32m    661\u001b[0m         )\n\u001b[0;32m--> 662\u001b[0m         \u001b[38;5;28;43mself\u001b[39;49m\u001b[38;5;241;43m.\u001b[39;49m\u001b[43m_final_estimator\u001b[49m\u001b[38;5;241;43m.\u001b[39;49m\u001b[43mfit\u001b[49m\u001b[43m(\u001b[49m\u001b[43mXt\u001b[49m\u001b[43m,\u001b[49m\u001b[43m \u001b[49m\u001b[43my\u001b[49m\u001b[43m,\u001b[49m\u001b[43m \u001b[49m\u001b[38;5;241;43m*\u001b[39;49m\u001b[38;5;241;43m*\u001b[39;49m\u001b[43mlast_step_params\u001b[49m\u001b[43m[\u001b[49m\u001b[38;5;124;43m\"\u001b[39;49m\u001b[38;5;124;43mfit\u001b[39;49m\u001b[38;5;124;43m\"\u001b[39;49m\u001b[43m]\u001b[49m\u001b[43m)\u001b[49m\n\u001b[1;32m    664\u001b[0m \u001b[38;5;28;01mreturn\u001b[39;00m \u001b[38;5;28mself\u001b[39m\n",
            "File \u001b[0;32m~/.global_envs/jupyter-global-3.9/lib/python3.9/site-packages/sklearn/base.py:1389\u001b[0m, in \u001b[0;36m_fit_context.<locals>.decorator.<locals>.wrapper\u001b[0;34m(estimator, *args, **kwargs)\u001b[0m\n\u001b[1;32m   1382\u001b[0m     estimator\u001b[38;5;241m.\u001b[39m_validate_params()\n\u001b[1;32m   1384\u001b[0m \u001b[38;5;28;01mwith\u001b[39;00m config_context(\n\u001b[1;32m   1385\u001b[0m     skip_parameter_validation\u001b[38;5;241m=\u001b[39m(\n\u001b[1;32m   1386\u001b[0m         prefer_skip_nested_validation \u001b[38;5;129;01mor\u001b[39;00m global_skip_validation\n\u001b[1;32m   1387\u001b[0m     )\n\u001b[1;32m   1388\u001b[0m ):\n\u001b[0;32m-> 1389\u001b[0m     \u001b[38;5;28;01mreturn\u001b[39;00m \u001b[43mfit_method\u001b[49m\u001b[43m(\u001b[49m\u001b[43mestimator\u001b[49m\u001b[43m,\u001b[49m\u001b[43m \u001b[49m\u001b[38;5;241;43m*\u001b[39;49m\u001b[43margs\u001b[49m\u001b[43m,\u001b[49m\u001b[43m \u001b[49m\u001b[38;5;241;43m*\u001b[39;49m\u001b[38;5;241;43m*\u001b[39;49m\u001b[43mkwargs\u001b[49m\u001b[43m)\u001b[49m\n",
            "File \u001b[0;32m~/.global_envs/jupyter-global-3.9/lib/python3.9/site-packages/sklearn/linear_model/_coordinate_descent.py:982\u001b[0m, in \u001b[0;36mElasticNet.fit\u001b[0;34m(self, X, y, sample_weight, check_input)\u001b[0m\n\u001b[1;32m    980\u001b[0m \u001b[38;5;28;01mif\u001b[39;00m check_input:\n\u001b[1;32m    981\u001b[0m     X_copied \u001b[38;5;241m=\u001b[39m \u001b[38;5;28mself\u001b[39m\u001b[38;5;241m.\u001b[39mcopy_X \u001b[38;5;129;01mand\u001b[39;00m \u001b[38;5;28mself\u001b[39m\u001b[38;5;241m.\u001b[39mfit_intercept\n\u001b[0;32m--> 982\u001b[0m     X, y \u001b[38;5;241m=\u001b[39m \u001b[43mvalidate_data\u001b[49m\u001b[43m(\u001b[49m\n\u001b[1;32m    983\u001b[0m \u001b[43m        \u001b[49m\u001b[38;5;28;43mself\u001b[39;49m\u001b[43m,\u001b[49m\n\u001b[1;32m    984\u001b[0m \u001b[43m        \u001b[49m\u001b[43mX\u001b[49m\u001b[43m,\u001b[49m\n\u001b[1;32m    985\u001b[0m \u001b[43m        \u001b[49m\u001b[43my\u001b[49m\u001b[43m,\u001b[49m\n\u001b[1;32m    986\u001b[0m \u001b[43m        \u001b[49m\u001b[43maccept_sparse\u001b[49m\u001b[38;5;241;43m=\u001b[39;49m\u001b[38;5;124;43m\"\u001b[39;49m\u001b[38;5;124;43mcsc\u001b[39;49m\u001b[38;5;124;43m\"\u001b[39;49m\u001b[43m,\u001b[49m\n\u001b[1;32m    987\u001b[0m \u001b[43m        \u001b[49m\u001b[43morder\u001b[49m\u001b[38;5;241;43m=\u001b[39;49m\u001b[38;5;124;43m\"\u001b[39;49m\u001b[38;5;124;43mF\u001b[39;49m\u001b[38;5;124;43m\"\u001b[39;49m\u001b[43m,\u001b[49m\n\u001b[1;32m    988\u001b[0m \u001b[43m        \u001b[49m\u001b[43mdtype\u001b[49m\u001b[38;5;241;43m=\u001b[39;49m\u001b[43m[\u001b[49m\u001b[43mnp\u001b[49m\u001b[38;5;241;43m.\u001b[39;49m\u001b[43mfloat64\u001b[49m\u001b[43m,\u001b[49m\u001b[43m \u001b[49m\u001b[43mnp\u001b[49m\u001b[38;5;241;43m.\u001b[39;49m\u001b[43mfloat32\u001b[49m\u001b[43m]\u001b[49m\u001b[43m,\u001b[49m\n\u001b[1;32m    989\u001b[0m \u001b[43m        \u001b[49m\u001b[43mforce_writeable\u001b[49m\u001b[38;5;241;43m=\u001b[39;49m\u001b[38;5;28;43;01mTrue\u001b[39;49;00m\u001b[43m,\u001b[49m\n\u001b[1;32m    990\u001b[0m \u001b[43m        \u001b[49m\u001b[43maccept_large_sparse\u001b[49m\u001b[38;5;241;43m=\u001b[39;49m\u001b[38;5;28;43;01mFalse\u001b[39;49;00m\u001b[43m,\u001b[49m\n\u001b[1;32m    991\u001b[0m \u001b[43m        \u001b[49m\u001b[43mcopy\u001b[49m\u001b[38;5;241;43m=\u001b[39;49m\u001b[43mX_copied\u001b[49m\u001b[43m,\u001b[49m\n\u001b[1;32m    992\u001b[0m \u001b[43m        \u001b[49m\u001b[43mmulti_output\u001b[49m\u001b[38;5;241;43m=\u001b[39;49m\u001b[38;5;28;43;01mTrue\u001b[39;49;00m\u001b[43m,\u001b[49m\n\u001b[1;32m    993\u001b[0m \u001b[43m        \u001b[49m\u001b[43my_numeric\u001b[49m\u001b[38;5;241;43m=\u001b[39;49m\u001b[38;5;28;43;01mTrue\u001b[39;49;00m\u001b[43m,\u001b[49m\n\u001b[1;32m    994\u001b[0m \u001b[43m    \u001b[49m\u001b[43m)\u001b[49m\n\u001b[1;32m    995\u001b[0m     y \u001b[38;5;241m=\u001b[39m check_array(\n\u001b[1;32m    996\u001b[0m         y, order\u001b[38;5;241m=\u001b[39m\u001b[38;5;124m\"\u001b[39m\u001b[38;5;124mF\u001b[39m\u001b[38;5;124m\"\u001b[39m, copy\u001b[38;5;241m=\u001b[39m\u001b[38;5;28;01mFalse\u001b[39;00m, dtype\u001b[38;5;241m=\u001b[39mX\u001b[38;5;241m.\u001b[39mdtype\u001b[38;5;241m.\u001b[39mtype, ensure_2d\u001b[38;5;241m=\u001b[39m\u001b[38;5;28;01mFalse\u001b[39;00m\n\u001b[1;32m    997\u001b[0m     )\n\u001b[1;32m    999\u001b[0m n_samples, n_features \u001b[38;5;241m=\u001b[39m X\u001b[38;5;241m.\u001b[39mshape\n",
            "File \u001b[0;32m~/.global_envs/jupyter-global-3.9/lib/python3.9/site-packages/sklearn/utils/validation.py:2961\u001b[0m, in \u001b[0;36mvalidate_data\u001b[0;34m(_estimator, X, y, reset, validate_separately, skip_check_array, **check_params)\u001b[0m\n\u001b[1;32m   2959\u001b[0m         y \u001b[38;5;241m=\u001b[39m check_array(y, input_name\u001b[38;5;241m=\u001b[39m\u001b[38;5;124m\"\u001b[39m\u001b[38;5;124my\u001b[39m\u001b[38;5;124m\"\u001b[39m, \u001b[38;5;241m*\u001b[39m\u001b[38;5;241m*\u001b[39mcheck_y_params)\n\u001b[1;32m   2960\u001b[0m     \u001b[38;5;28;01melse\u001b[39;00m:\n\u001b[0;32m-> 2961\u001b[0m         X, y \u001b[38;5;241m=\u001b[39m \u001b[43mcheck_X_y\u001b[49m\u001b[43m(\u001b[49m\u001b[43mX\u001b[49m\u001b[43m,\u001b[49m\u001b[43m \u001b[49m\u001b[43my\u001b[49m\u001b[43m,\u001b[49m\u001b[43m \u001b[49m\u001b[38;5;241;43m*\u001b[39;49m\u001b[38;5;241;43m*\u001b[39;49m\u001b[43mcheck_params\u001b[49m\u001b[43m)\u001b[49m\n\u001b[1;32m   2962\u001b[0m     out \u001b[38;5;241m=\u001b[39m X, y\n\u001b[1;32m   2964\u001b[0m \u001b[38;5;28;01mif\u001b[39;00m \u001b[38;5;129;01mnot\u001b[39;00m no_val_X \u001b[38;5;129;01mand\u001b[39;00m check_params\u001b[38;5;241m.\u001b[39mget(\u001b[38;5;124m\"\u001b[39m\u001b[38;5;124mensure_2d\u001b[39m\u001b[38;5;124m\"\u001b[39m, \u001b[38;5;28;01mTrue\u001b[39;00m):\n",
            "File \u001b[0;32m~/.global_envs/jupyter-global-3.9/lib/python3.9/site-packages/sklearn/utils/validation.py:1370\u001b[0m, in \u001b[0;36mcheck_X_y\u001b[0;34m(X, y, accept_sparse, accept_large_sparse, dtype, order, copy, force_writeable, force_all_finite, ensure_all_finite, ensure_2d, allow_nd, multi_output, ensure_min_samples, ensure_min_features, y_numeric, estimator)\u001b[0m\n\u001b[1;32m   1364\u001b[0m     \u001b[38;5;28;01mraise\u001b[39;00m \u001b[38;5;167;01mValueError\u001b[39;00m(\n\u001b[1;32m   1365\u001b[0m         \u001b[38;5;124mf\u001b[39m\u001b[38;5;124m\"\u001b[39m\u001b[38;5;132;01m{\u001b[39;00mestimator_name\u001b[38;5;132;01m}\u001b[39;00m\u001b[38;5;124m requires y to be passed, but the target y is None\u001b[39m\u001b[38;5;124m\"\u001b[39m\n\u001b[1;32m   1366\u001b[0m     )\n\u001b[1;32m   1368\u001b[0m ensure_all_finite \u001b[38;5;241m=\u001b[39m _deprecate_force_all_finite(force_all_finite, ensure_all_finite)\n\u001b[0;32m-> 1370\u001b[0m X \u001b[38;5;241m=\u001b[39m \u001b[43mcheck_array\u001b[49m\u001b[43m(\u001b[49m\n\u001b[1;32m   1371\u001b[0m \u001b[43m    \u001b[49m\u001b[43mX\u001b[49m\u001b[43m,\u001b[49m\n\u001b[1;32m   1372\u001b[0m \u001b[43m    \u001b[49m\u001b[43maccept_sparse\u001b[49m\u001b[38;5;241;43m=\u001b[39;49m\u001b[43maccept_sparse\u001b[49m\u001b[43m,\u001b[49m\n\u001b[1;32m   1373\u001b[0m \u001b[43m    \u001b[49m\u001b[43maccept_large_sparse\u001b[49m\u001b[38;5;241;43m=\u001b[39;49m\u001b[43maccept_large_sparse\u001b[49m\u001b[43m,\u001b[49m\n\u001b[1;32m   1374\u001b[0m \u001b[43m    \u001b[49m\u001b[43mdtype\u001b[49m\u001b[38;5;241;43m=\u001b[39;49m\u001b[43mdtype\u001b[49m\u001b[43m,\u001b[49m\n\u001b[1;32m   1375\u001b[0m \u001b[43m    \u001b[49m\u001b[43morder\u001b[49m\u001b[38;5;241;43m=\u001b[39;49m\u001b[43morder\u001b[49m\u001b[43m,\u001b[49m\n\u001b[1;32m   1376\u001b[0m \u001b[43m    \u001b[49m\u001b[43mcopy\u001b[49m\u001b[38;5;241;43m=\u001b[39;49m\u001b[43mcopy\u001b[49m\u001b[43m,\u001b[49m\n\u001b[1;32m   1377\u001b[0m \u001b[43m    \u001b[49m\u001b[43mforce_writeable\u001b[49m\u001b[38;5;241;43m=\u001b[39;49m\u001b[43mforce_writeable\u001b[49m\u001b[43m,\u001b[49m\n\u001b[1;32m   1378\u001b[0m \u001b[43m    \u001b[49m\u001b[43mensure_all_finite\u001b[49m\u001b[38;5;241;43m=\u001b[39;49m\u001b[43mensure_all_finite\u001b[49m\u001b[43m,\u001b[49m\n\u001b[1;32m   1379\u001b[0m \u001b[43m    \u001b[49m\u001b[43mensure_2d\u001b[49m\u001b[38;5;241;43m=\u001b[39;49m\u001b[43mensure_2d\u001b[49m\u001b[43m,\u001b[49m\n\u001b[1;32m   1380\u001b[0m \u001b[43m    \u001b[49m\u001b[43mallow_nd\u001b[49m\u001b[38;5;241;43m=\u001b[39;49m\u001b[43mallow_nd\u001b[49m\u001b[43m,\u001b[49m\n\u001b[1;32m   1381\u001b[0m \u001b[43m    \u001b[49m\u001b[43mensure_min_samples\u001b[49m\u001b[38;5;241;43m=\u001b[39;49m\u001b[43mensure_min_samples\u001b[49m\u001b[43m,\u001b[49m\n\u001b[1;32m   1382\u001b[0m \u001b[43m    \u001b[49m\u001b[43mensure_min_features\u001b[49m\u001b[38;5;241;43m=\u001b[39;49m\u001b[43mensure_min_features\u001b[49m\u001b[43m,\u001b[49m\n\u001b[1;32m   1383\u001b[0m \u001b[43m    \u001b[49m\u001b[43mestimator\u001b[49m\u001b[38;5;241;43m=\u001b[39;49m\u001b[43mestimator\u001b[49m\u001b[43m,\u001b[49m\n\u001b[1;32m   1384\u001b[0m \u001b[43m    \u001b[49m\u001b[43minput_name\u001b[49m\u001b[38;5;241;43m=\u001b[39;49m\u001b[38;5;124;43m\"\u001b[39;49m\u001b[38;5;124;43mX\u001b[39;49m\u001b[38;5;124;43m\"\u001b[39;49m\u001b[43m,\u001b[49m\n\u001b[1;32m   1385\u001b[0m \u001b[43m\u001b[49m\u001b[43m)\u001b[49m\n\u001b[1;32m   1387\u001b[0m y \u001b[38;5;241m=\u001b[39m _check_y(y, multi_output\u001b[38;5;241m=\u001b[39mmulti_output, y_numeric\u001b[38;5;241m=\u001b[39my_numeric, estimator\u001b[38;5;241m=\u001b[39mestimator)\n\u001b[1;32m   1389\u001b[0m check_consistent_length(X, y)\n",
            "File \u001b[0;32m~/.global_envs/jupyter-global-3.9/lib/python3.9/site-packages/sklearn/utils/validation.py:1014\u001b[0m, in \u001b[0;36mcheck_array\u001b[0;34m(array, accept_sparse, accept_large_sparse, dtype, order, copy, force_writeable, force_all_finite, ensure_all_finite, ensure_non_negative, ensure_2d, allow_nd, ensure_min_samples, ensure_min_features, estimator, input_name)\u001b[0m\n\u001b[1;32m   1012\u001b[0m \u001b[38;5;28;01mif\u001b[39;00m sp\u001b[38;5;241m.\u001b[39missparse(array):\n\u001b[1;32m   1013\u001b[0m     _ensure_no_complex_data(array)\n\u001b[0;32m-> 1014\u001b[0m     array \u001b[38;5;241m=\u001b[39m \u001b[43m_ensure_sparse_format\u001b[49m\u001b[43m(\u001b[49m\n\u001b[1;32m   1015\u001b[0m \u001b[43m        \u001b[49m\u001b[43marray\u001b[49m\u001b[43m,\u001b[49m\n\u001b[1;32m   1016\u001b[0m \u001b[43m        \u001b[49m\u001b[43maccept_sparse\u001b[49m\u001b[38;5;241;43m=\u001b[39;49m\u001b[43maccept_sparse\u001b[49m\u001b[43m,\u001b[49m\n\u001b[1;32m   1017\u001b[0m \u001b[43m        \u001b[49m\u001b[43mdtype\u001b[49m\u001b[38;5;241;43m=\u001b[39;49m\u001b[43mdtype\u001b[49m\u001b[43m,\u001b[49m\n\u001b[1;32m   1018\u001b[0m \u001b[43m        \u001b[49m\u001b[43mcopy\u001b[49m\u001b[38;5;241;43m=\u001b[39;49m\u001b[43mcopy\u001b[49m\u001b[43m,\u001b[49m\n\u001b[1;32m   1019\u001b[0m \u001b[43m        \u001b[49m\u001b[43mensure_all_finite\u001b[49m\u001b[38;5;241;43m=\u001b[39;49m\u001b[43mensure_all_finite\u001b[49m\u001b[43m,\u001b[49m\n\u001b[1;32m   1020\u001b[0m \u001b[43m        \u001b[49m\u001b[43maccept_large_sparse\u001b[49m\u001b[38;5;241;43m=\u001b[39;49m\u001b[43maccept_large_sparse\u001b[49m\u001b[43m,\u001b[49m\n\u001b[1;32m   1021\u001b[0m \u001b[43m        \u001b[49m\u001b[43mestimator_name\u001b[49m\u001b[38;5;241;43m=\u001b[39;49m\u001b[43mestimator_name\u001b[49m\u001b[43m,\u001b[49m\n\u001b[1;32m   1022\u001b[0m \u001b[43m        \u001b[49m\u001b[43minput_name\u001b[49m\u001b[38;5;241;43m=\u001b[39;49m\u001b[43minput_name\u001b[49m\u001b[43m,\u001b[49m\n\u001b[1;32m   1023\u001b[0m \u001b[43m    \u001b[49m\u001b[43m)\u001b[49m\n\u001b[1;32m   1024\u001b[0m     \u001b[38;5;28;01mif\u001b[39;00m ensure_2d \u001b[38;5;129;01mand\u001b[39;00m array\u001b[38;5;241m.\u001b[39mndim \u001b[38;5;241m<\u001b[39m \u001b[38;5;241m2\u001b[39m:\n\u001b[1;32m   1025\u001b[0m         \u001b[38;5;28;01mraise\u001b[39;00m \u001b[38;5;167;01mValueError\u001b[39;00m(\n\u001b[1;32m   1026\u001b[0m             \u001b[38;5;124mf\u001b[39m\u001b[38;5;124m\"\u001b[39m\u001b[38;5;124mExpected 2D input, got input with shape \u001b[39m\u001b[38;5;132;01m{\u001b[39;00marray\u001b[38;5;241m.\u001b[39mshape\u001b[38;5;132;01m}\u001b[39;00m\u001b[38;5;124m.\u001b[39m\u001b[38;5;130;01m\\n\u001b[39;00m\u001b[38;5;124m\"\u001b[39m\n\u001b[1;32m   1027\u001b[0m             \u001b[38;5;124m\"\u001b[39m\u001b[38;5;124mReshape your data either using array.reshape(-1, 1) if \u001b[39m\u001b[38;5;124m\"\u001b[39m\n\u001b[1;32m   1028\u001b[0m             \u001b[38;5;124m\"\u001b[39m\u001b[38;5;124myour data has a single feature or array.reshape(1, -1) \u001b[39m\u001b[38;5;124m\"\u001b[39m\n\u001b[1;32m   1029\u001b[0m             \u001b[38;5;124m\"\u001b[39m\u001b[38;5;124mif it contains a single sample.\u001b[39m\u001b[38;5;124m\"\u001b[39m\n\u001b[1;32m   1030\u001b[0m         )\n",
            "File \u001b[0;32m~/.global_envs/jupyter-global-3.9/lib/python3.9/site-packages/sklearn/utils/validation.py:649\u001b[0m, in \u001b[0;36m_ensure_sparse_format\u001b[0;34m(sparse_container, accept_sparse, dtype, copy, ensure_all_finite, accept_large_sparse, estimator_name, input_name)\u001b[0m\n\u001b[1;32m    644\u001b[0m         warnings\u001b[38;5;241m.\u001b[39mwarn(\n\u001b[1;32m    645\u001b[0m             \u001b[38;5;124mf\u001b[39m\u001b[38;5;124m\"\u001b[39m\u001b[38;5;124mCan\u001b[39m\u001b[38;5;124m'\u001b[39m\u001b[38;5;124mt check \u001b[39m\u001b[38;5;132;01m{\u001b[39;00msparse_container\u001b[38;5;241m.\u001b[39mformat\u001b[38;5;132;01m}\u001b[39;00m\u001b[38;5;124m sparse matrix for nan or inf.\u001b[39m\u001b[38;5;124m\"\u001b[39m,\n\u001b[1;32m    646\u001b[0m             stacklevel\u001b[38;5;241m=\u001b[39m\u001b[38;5;241m2\u001b[39m,\n\u001b[1;32m    647\u001b[0m         )\n\u001b[1;32m    648\u001b[0m     \u001b[38;5;28;01melse\u001b[39;00m:\n\u001b[0;32m--> 649\u001b[0m         \u001b[43m_assert_all_finite\u001b[49m\u001b[43m(\u001b[49m\n\u001b[1;32m    650\u001b[0m \u001b[43m            \u001b[49m\u001b[43msparse_container\u001b[49m\u001b[38;5;241;43m.\u001b[39;49m\u001b[43mdata\u001b[49m\u001b[43m,\u001b[49m\n\u001b[1;32m    651\u001b[0m \u001b[43m            \u001b[49m\u001b[43mallow_nan\u001b[49m\u001b[38;5;241;43m=\u001b[39;49m\u001b[43mensure_all_finite\u001b[49m\u001b[43m \u001b[49m\u001b[38;5;241;43m==\u001b[39;49m\u001b[43m \u001b[49m\u001b[38;5;124;43m\"\u001b[39;49m\u001b[38;5;124;43mallow-nan\u001b[39;49m\u001b[38;5;124;43m\"\u001b[39;49m\u001b[43m,\u001b[49m\n\u001b[1;32m    652\u001b[0m \u001b[43m            \u001b[49m\u001b[43mestimator_name\u001b[49m\u001b[38;5;241;43m=\u001b[39;49m\u001b[43mestimator_name\u001b[49m\u001b[43m,\u001b[49m\n\u001b[1;32m    653\u001b[0m \u001b[43m            \u001b[49m\u001b[43minput_name\u001b[49m\u001b[38;5;241;43m=\u001b[39;49m\u001b[43minput_name\u001b[49m\u001b[43m,\u001b[49m\n\u001b[1;32m    654\u001b[0m \u001b[43m        \u001b[49m\u001b[43m)\u001b[49m\n\u001b[1;32m    656\u001b[0m \u001b[38;5;66;03m# TODO: Remove when the minimum version of SciPy supported is 1.12\u001b[39;00m\n\u001b[1;32m    657\u001b[0m \u001b[38;5;66;03m# With SciPy sparse arrays, conversion from DIA format to COO, CSR, or BSR\u001b[39;00m\n\u001b[1;32m    658\u001b[0m \u001b[38;5;66;03m# triggers the use of `np.int64` indices even if the data is such that it could\u001b[39;00m\n\u001b[0;32m   (...)\u001b[0m\n\u001b[1;32m    661\u001b[0m \u001b[38;5;66;03m# algorithms support large indices, the following code downcasts to `np.int32`\u001b[39;00m\n\u001b[1;32m    662\u001b[0m \u001b[38;5;66;03m# indices when it's safe to do so.\u001b[39;00m\n\u001b[1;32m    663\u001b[0m \u001b[38;5;28;01mif\u001b[39;00m changed_format:\n\u001b[1;32m    664\u001b[0m     \u001b[38;5;66;03m# accept_sparse is specified to a specific format and a conversion occurred\u001b[39;00m\n",
            "File \u001b[0;32m~/.global_envs/jupyter-global-3.9/lib/python3.9/site-packages/sklearn/utils/validation.py:120\u001b[0m, in \u001b[0;36m_assert_all_finite\u001b[0;34m(X, allow_nan, msg_dtype, estimator_name, input_name)\u001b[0m\n\u001b[1;32m    117\u001b[0m \u001b[38;5;28;01mif\u001b[39;00m first_pass_isfinite:\n\u001b[1;32m    118\u001b[0m     \u001b[38;5;28;01mreturn\u001b[39;00m\n\u001b[0;32m--> 120\u001b[0m \u001b[43m_assert_all_finite_element_wise\u001b[49m\u001b[43m(\u001b[49m\n\u001b[1;32m    121\u001b[0m \u001b[43m    \u001b[49m\u001b[43mX\u001b[49m\u001b[43m,\u001b[49m\n\u001b[1;32m    122\u001b[0m \u001b[43m    \u001b[49m\u001b[43mxp\u001b[49m\u001b[38;5;241;43m=\u001b[39;49m\u001b[43mxp\u001b[49m\u001b[43m,\u001b[49m\n\u001b[1;32m    123\u001b[0m \u001b[43m    \u001b[49m\u001b[43mallow_nan\u001b[49m\u001b[38;5;241;43m=\u001b[39;49m\u001b[43mallow_nan\u001b[49m\u001b[43m,\u001b[49m\n\u001b[1;32m    124\u001b[0m \u001b[43m    \u001b[49m\u001b[43mmsg_dtype\u001b[49m\u001b[38;5;241;43m=\u001b[39;49m\u001b[43mmsg_dtype\u001b[49m\u001b[43m,\u001b[49m\n\u001b[1;32m    125\u001b[0m \u001b[43m    \u001b[49m\u001b[43mestimator_name\u001b[49m\u001b[38;5;241;43m=\u001b[39;49m\u001b[43mestimator_name\u001b[49m\u001b[43m,\u001b[49m\n\u001b[1;32m    126\u001b[0m \u001b[43m    \u001b[49m\u001b[43minput_name\u001b[49m\u001b[38;5;241;43m=\u001b[39;49m\u001b[43minput_name\u001b[49m\u001b[43m,\u001b[49m\n\u001b[1;32m    127\u001b[0m \u001b[43m\u001b[49m\u001b[43m)\u001b[49m\n",
            "File \u001b[0;32m~/.global_envs/jupyter-global-3.9/lib/python3.9/site-packages/sklearn/utils/validation.py:169\u001b[0m, in \u001b[0;36m_assert_all_finite_element_wise\u001b[0;34m(X, xp, allow_nan, msg_dtype, estimator_name, input_name)\u001b[0m\n\u001b[1;32m    152\u001b[0m \u001b[38;5;28;01mif\u001b[39;00m estimator_name \u001b[38;5;129;01mand\u001b[39;00m input_name \u001b[38;5;241m==\u001b[39m \u001b[38;5;124m\"\u001b[39m\u001b[38;5;124mX\u001b[39m\u001b[38;5;124m\"\u001b[39m \u001b[38;5;129;01mand\u001b[39;00m has_nan_error:\n\u001b[1;32m    153\u001b[0m     \u001b[38;5;66;03m# Improve the error message on how to handle missing values in\u001b[39;00m\n\u001b[1;32m    154\u001b[0m     \u001b[38;5;66;03m# scikit-learn.\u001b[39;00m\n\u001b[1;32m    155\u001b[0m     msg_err \u001b[38;5;241m+\u001b[39m\u001b[38;5;241m=\u001b[39m (\n\u001b[1;32m    156\u001b[0m         \u001b[38;5;124mf\u001b[39m\u001b[38;5;124m\"\u001b[39m\u001b[38;5;130;01m\\n\u001b[39;00m\u001b[38;5;132;01m{\u001b[39;00mestimator_name\u001b[38;5;132;01m}\u001b[39;00m\u001b[38;5;124m does not accept missing values\u001b[39m\u001b[38;5;124m\"\u001b[39m\n\u001b[1;32m    157\u001b[0m         \u001b[38;5;124m\"\u001b[39m\u001b[38;5;124m encoded as NaN natively. For supervised learning, you might want\u001b[39m\u001b[38;5;124m\"\u001b[39m\n\u001b[0;32m   (...)\u001b[0m\n\u001b[1;32m    167\u001b[0m         \u001b[38;5;124m\"\u001b[39m\u001b[38;5;124m#estimators-that-handle-nan-values\u001b[39m\u001b[38;5;124m\"\u001b[39m\n\u001b[1;32m    168\u001b[0m     )\n\u001b[0;32m--> 169\u001b[0m \u001b[38;5;28;01mraise\u001b[39;00m \u001b[38;5;167;01mValueError\u001b[39;00m(msg_err)\n",
            "\u001b[0;31mValueError\u001b[0m: Input X contains NaN.\nLasso does not accept missing values encoded as NaN natively. For supervised learning, you might want to consider sklearn.ensemble.HistGradientBoostingClassifier and Regressor which accept missing values encoded as NaNs natively. Alternatively, it is possible to preprocess the data, for instance by using an imputer transformer in a pipeline or drop samples with missing values. See https://scikit-learn.org/stable/modules/impute.html You can find a list of all estimators that handle NaN values at the following page: https://scikit-learn.org/stable/modules/impute.html#estimators-that-handle-nan-values"
          ]
        }
      ],
      "source": [
        "# prompt: fais un lasso pour voir qui me donne en sortie les colonnes de x_train_ext qui ont une vraie influence sur le modèle. Les colonnes 'train' et 'gare' ont un one-hot-encoding avant d'entrer dans le modèle, sinon ce sont des strings et ça pose problème\n",
        "\n",
        "import pandas as pd\n",
        "from sklearn.linear_model import Lasso\n",
        "\n",
        "# Prepare the data for Lasso (similar to the XGBoost pipeline)\n",
        "one_hot_data = data_train[['train', 'gare']]\n",
        "data_numeric = data_train.drop(columns=['train', 'gare'])\n",
        "\n",
        "one_hot_encoding_columns = one_hot_data.columns\n",
        "numeric_columns = data_numeric.columns\n",
        "\n",
        "preprocessor = ColumnTransformer([\n",
        "    ('one-hot-encoder', OneHotEncoder(handle_unknown='ignore'), one_hot_encoding_columns),\n",
        "    ('passthrough-numeric', 'passthrough', numeric_columns)\n",
        "])\n",
        "\n",
        "# Create and train the Lasso model\n",
        "lasso_model = make_pipeline(\n",
        "    preprocessor,\n",
        "    Lasso(alpha=0.1) # You might need to tune the alpha parameter\n",
        ")\n",
        "lasso_model.fit(data_train, target_train)\n",
        "\n",
        "# Get feature importances from the Lasso model\n",
        "# Access the named_steps\n",
        "lasso_coefficients = lasso_model.named_steps['lasso'].coef_\n",
        "\n",
        "# Get feature names after one-hot encoding\n",
        "feature_names = list(lasso_model.named_steps['columntransformer'].named_transformers_['one-hot-encoder'].get_feature_names_out(one_hot_encoding_columns))\n",
        "feature_names.extend(numeric_columns)\n",
        "\n",
        "\n",
        "# Create a DataFrame for better visualization\n",
        "feature_importance = pd.DataFrame({'Feature': feature_names, 'Coefficient': lasso_coefficients})\n",
        "\n",
        "# Sort by absolute coefficient value to see most influential features\n",
        "feature_importance = feature_importance.reindex(feature_importance['Coefficient'].abs().sort_values(ascending=False).index)\n",
        "\n",
        "feature_importance\n"
      ]
    },
    {
      "cell_type": "markdown",
      "metadata": {
        "id": "_AOq77fYzjaI"
      },
      "source": [
        "# Fine tuning"
      ]
    },
    {
      "cell_type": "markdown",
      "metadata": {
        "id": "TbmUUx9OzmeP"
      },
      "source": [
        "je sais pas faire donc je laisse gemini me faire un optuna faire pour me prédire le plus joli modèle de xgboost et je ferai une autre submission"
      ]
    },
    {
      "cell_type": "code",
      "execution_count": null,
      "metadata": {
        "colab": {
          "base_uri": "https://localhost:8080/"
        },
        "id": "H4lDtptL0Eg1",
        "outputId": "cd0890a4-d864-4cdd-ffef-9383480a18c8"
      },
      "outputs": [],
      "source": [
        "pip install optuna"
      ]
    },
    {
      "cell_type": "code",
      "execution_count": null,
      "metadata": {
        "colab": {
          "base_uri": "https://localhost:8080/"
        },
        "id": "zDhMcE-Rzt-r",
        "outputId": "d974996c-8d2a-41bb-9735-c8dabb7ca523"
      },
      "outputs": [],
      "source": [
        "# prompt: utilise optuna pour trouver un best model avec les hyperparamètres de xgboost\n",
        "\n",
        "import numpy as np\n",
        "import optuna\n",
        "from sklearn.metrics import mean_absolute_error\n",
        "\n",
        "def objective(trial):\n",
        "    # Define the hyperparameters to optimize\n",
        "    params = {\n",
        "        'n_estimators': trial.suggest_int('n_estimators', 100, 1000),\n",
        "        'max_depth': trial.suggest_int('max_depth', 3, 10),\n",
        "        'learning_rate': trial.suggest_float('learning_rate', 0.01, 0.3),\n",
        "        'subsample': trial.suggest_float('subsample', 0.5, 1.0),\n",
        "        'colsample_bytree': trial.suggest_float('colsample_bytree', 0.5, 1.0),\n",
        "        'min_child_weight': trial.suggest_int('min_child_weight', 1, 10)\n",
        "    }\n",
        "\n",
        "    # Create and train the XGBoost model with the suggested hyperparameters\n",
        "    model = make_pipeline(\n",
        "        preprocessor,\n",
        "        XGBRegressor(**params)\n",
        "    )\n",
        "    model.fit(data_train, target_train)\n",
        "\n",
        "    # Evaluate the model and return the RMSE\n",
        "    predictions = model.predict(data_test)\n",
        "    mae = mean_absolute_error(target_test, predictions)\n",
        "    return mae\n",
        "\n",
        "# Create an Optuna study\n",
        "study = optuna.create_study(direction='minimize')\n",
        "\n",
        "# Optimize the hyperparameters\n",
        "study.optimize(objective, n_trials=100) # Adjust n_trials as needed\n",
        "\n",
        "# Print the best hyperparameters and RMSE\n",
        "print('Best trial:')\n",
        "trial = study.best_trial\n",
        "print(f'  Value: {trial.value}')\n",
        "print(f'  Params: ')\n",
        "for key, value in trial.params.items():\n",
        "    print(f'    {key}: {value}')\n",
        "\n",
        "# Train a final model with the best hyperparameters\n",
        "best_params = study.best_params\n",
        "best_model = make_pipeline(\n",
        "    preprocessor,\n",
        "    XGBRegressor(**best_params)\n",
        ")\n",
        "best_model.fit(x_train, y_train) # train on the entire dataset\n",
        "\n",
        "\n",
        "# Now you can use 'best_model' to make predictions on new data\n"
      ]
    },
    {
      "cell_type": "markdown",
      "metadata": {
        "id": "-r5UdC2c-rUB"
      },
      "source": [
        "n_estimator = 666, max_depth = 9, learning_rate= 0.1496192393803131, 'subsample': 0.964966489787134, 'colsample_bytree': 0.9156754709631588, 'min_child_weight': 10"
      ]
    },
    {
      "cell_type": "markdown",
      "metadata": {
        "id": "OjsQq5oTzg2p"
      },
      "source": [
        "# Predictions"
      ]
    },
    {
      "cell_type": "markdown",
      "metadata": {
        "id": "MzOej2aptK7P"
      },
      "source": [
        "faisons les prédictions (on passe l'étape validation)"
      ]
    },
    {
      "cell_type": "code",
      "execution_count": null,
      "metadata": {
        "id": "riPhbP-0tNnt"
      },
      "outputs": [],
      "source": [
        "pred = model.predict(x_test)"
      ]
    },
    {
      "cell_type": "code",
      "execution_count": null,
      "metadata": {
        "colab": {
          "base_uri": "https://localhost:8080/"
        },
        "id": "alD0MQhjtUp0",
        "outputId": "4a5dc308-44c6-4fd4-b61e-b4869b51902b"
      },
      "outputs": [],
      "source": [
        "pred"
      ]
    },
    {
      "cell_type": "code",
      "execution_count": null,
      "metadata": {
        "id": "SpZ0KW7YtVuA"
      },
      "outputs": [],
      "source": [
        "submission = pd.DataFrame({'p0q0': pred}, index=x_test.index)"
      ]
    },
    {
      "cell_type": "code",
      "execution_count": null,
      "metadata": {
        "colab": {
          "base_uri": "https://localhost:8080/",
          "height": 206
        },
        "id": "4bEWn3JQtcE2",
        "outputId": "e1280619-0efc-49e1-ea99-cfcb2201a8a1"
      },
      "outputs": [],
      "source": [
        "submission.head()"
      ]
    },
    {
      "cell_type": "code",
      "execution_count": null,
      "metadata": {
        "colab": {
          "base_uri": "https://localhost:8080/",
          "height": 206
        },
        "id": "q_Rv_VuPtmZE",
        "outputId": "a0f0df0d-1bf2-4550-e0b5-7cb8125994b5"
      },
      "outputs": [],
      "source": [
        "submission_final = submission.copy()\n",
        "submission_final['p0q0'] = submission_final['p0q0'].round().astype(int)\n",
        "submission_final.head()"
      ]
    },
    {
      "cell_type": "code",
      "execution_count": null,
      "metadata": {
        "colab": {
          "base_uri": "https://localhost:8080/"
        },
        "id": "KRFP1VGst93R",
        "outputId": "77732cf3-1019-43e1-8ba3-281cc8326112"
      },
      "outputs": [],
      "source": [
        "submission_final.shape"
      ]
    },
    {
      "cell_type": "code",
      "execution_count": null,
      "metadata": {
        "colab": {
          "base_uri": "https://localhost:8080/"
        },
        "id": "3Ti3BFLJt_57",
        "outputId": "6bd5998a-456d-4038-ffb4-d27487c5cd90"
      },
      "outputs": [],
      "source": [
        "x_test.shape"
      ]
    },
    {
      "cell_type": "code",
      "execution_count": null,
      "metadata": {
        "id": "gwh5TwK1uCFm"
      },
      "outputs": [],
      "source": [
        "submission_final.to_csv('submission_final_adrien_2.csv')"
      ]
    },
    {
      "cell_type": "markdown",
      "metadata": {
        "id": "8ENfbnwxfdDi"
      },
      "source": [
        "# Prédiction best model"
      ]
    },
    {
      "cell_type": "code",
      "execution_count": null,
      "metadata": {
        "id": "T15TpurHuHfF"
      },
      "outputs": [],
      "source": [
        "best_pred = model_ext.predict(x_test_ext)"
      ]
    },
    {
      "cell_type": "code",
      "execution_count": null,
      "metadata": {
        "id": "lpEpQwAyff5R"
      },
      "outputs": [],
      "source": [
        "submission = pd.DataFrame({'p0q0': best_pred}, index=x_test.index)"
      ]
    },
    {
      "cell_type": "code",
      "execution_count": null,
      "metadata": {
        "colab": {
          "base_uri": "https://localhost:8080/",
          "height": 206
        },
        "id": "t4vwvPSJffyh",
        "outputId": "fea28cdd-1d65-4920-d580-bb994cec172b"
      },
      "outputs": [],
      "source": [
        "submission.head()"
      ]
    },
    {
      "cell_type": "code",
      "execution_count": null,
      "metadata": {
        "colab": {
          "base_uri": "https://localhost:8080/",
          "height": 206
        },
        "id": "91Wxgyn8ffq9",
        "outputId": "2a21faec-223b-418a-fc5c-71da03d9e6de"
      },
      "outputs": [],
      "source": [
        "submission_final = submission.copy()\n",
        "submission_final['p0q0'] = submission_final['p0q0'].round().astype(int)\n",
        "submission_final.head()"
      ]
    },
    {
      "cell_type": "code",
      "execution_count": null,
      "metadata": {
        "id": "vW5tSBifffGg"
      },
      "outputs": [],
      "source": [
        "submission_final.to_csv('submission_final_adrien_4.csv')"
      ]
    }
  ],
  "metadata": {
    "colab": {
      "provenance": []
    },
    "kernelspec": {
      "display_name": "jupyter-global-3.9",
      "language": "python",
      "name": "python3"
    },
    "language_info": {
      "codemirror_mode": {
        "name": "ipython",
        "version": 3
      },
      "file_extension": ".py",
      "mimetype": "text/x-python",
      "name": "python",
      "nbconvert_exporter": "python",
      "pygments_lexer": "ipython3",
      "version": "3.9.21"
    }
  },
  "nbformat": 4,
  "nbformat_minor": 0
}
